{
 "cells": [
  {
   "cell_type": "markdown",
   "id": "456ed975-d29e-4671-ac4a-5d2d46102ead",
   "metadata": {},
   "source": [
    "# A faire\n",
    "\n",
    "- Vérifier qu'on peut bien tracer des moyennes, et si oui, comment sont-elles calculées ? Comprendre les méthodes directes et indirectes...\n"
   ]
  },
  {
   "cell_type": "markdown",
   "id": "eb9fa568-6382-47b4-abc9-cc6f6c023284",
   "metadata": {},
   "source": [
    "# Importations"
   ]
  },
  {
   "cell_type": "markdown",
   "id": "0cd89300-4d01-428a-9ac7-ddec66f33726",
   "metadata": {},
   "source": [
    "## Packages"
   ]
  },
  {
   "cell_type": "code",
   "execution_count": 1,
   "id": "3dd02862-e272-4e4e-864c-e5af49eddd0d",
   "metadata": {},
   "outputs": [],
   "source": [
    "import requests\n",
    "import pandas as pd\n",
    "import io\n",
    "\n",
    "import numpy as np\n",
    "import seaborn as sns\n",
    "import matplotlib.pyplot as plt"
   ]
  },
  {
   "cell_type": "markdown",
   "id": "0412b37c-e81d-4f4c-875e-65ddf8a0d071",
   "metadata": {},
   "source": [
    "## Inégalités sociales face aux maladies chroniques (ER 1243)"
   ]
  },
  {
   "cell_type": "code",
   "execution_count": 14,
   "id": "842374d6-0719-4f08-b5fc-24ca72715471",
   "metadata": {},
   "outputs": [
    {
     "data": {
      "text/html": [
       "<div>\n",
       "<style scoped>\n",
       "    .dataframe tbody tr th:only-of-type {\n",
       "        vertical-align: middle;\n",
       "    }\n",
       "\n",
       "    .dataframe tbody tr th {\n",
       "        vertical-align: top;\n",
       "    }\n",
       "\n",
       "    .dataframe thead th {\n",
       "        text-align: right;\n",
       "    }\n",
       "</style>\n",
       "<table border=\"1\" class=\"dataframe\">\n",
       "  <thead>\n",
       "    <tr style=\"text-align: right;\">\n",
       "      <th></th>\n",
       "      <th>type</th>\n",
       "      <th>varTaux</th>\n",
       "      <th>varTauxLib</th>\n",
       "      <th>I_cat</th>\n",
       "      <th>cat</th>\n",
       "      <th>catLib</th>\n",
       "      <th>varPartition</th>\n",
       "      <th>valPartition</th>\n",
       "      <th>varGroupage</th>\n",
       "      <th>valGroupage</th>\n",
       "      <th>varPoids</th>\n",
       "      <th>poids1</th>\n",
       "      <th>poidsTot</th>\n",
       "      <th>txNonStand</th>\n",
       "      <th>txStandDir</th>\n",
       "      <th>txStandDirModBB</th>\n",
       "      <th>txStandDirModBH</th>\n",
       "      <th>txStandIndir</th>\n",
       "      <th>txStandIndirModBB</th>\n",
       "      <th>txStandIndirModBH</th>\n",
       "    </tr>\n",
       "  </thead>\n",
       "  <tbody>\n",
       "    <tr>\n",
       "      <th>0</th>\n",
       "      <td>prevalence</td>\n",
       "      <td>TOP_CVAOMI_IND</td>\n",
       "      <td>Artériopathie oblitérante du membre inférieur</td>\n",
       "      <td>0</td>\n",
       "      <td>SUP_CV_CAT</td>\n",
       "      <td>Maladies cardioneurovasculaires</td>\n",
       "      <td>FISC_REG_S</td>\n",
       "      <td>76</td>\n",
       "      <td>FISC_NIVVIEM_E2015_S_moy_10</td>\n",
       "      <td>1</td>\n",
       "      <td>POIDS_FIDELI_S</td>\n",
       "      <td>13621.000499</td>\n",
       "      <td>1.374418e+06</td>\n",
       "      <td>0.009910</td>\n",
       "      <td>0.014240</td>\n",
       "      <td>0.013046</td>\n",
       "      <td>0.015435</td>\n",
       "      <td>0.014738</td>\n",
       "      <td>0.013555</td>\n",
       "      <td>0.015921</td>\n",
       "    </tr>\n",
       "    <tr>\n",
       "      <th>1</th>\n",
       "      <td>prevalence</td>\n",
       "      <td>TOP_CVCORON_CHR</td>\n",
       "      <td>Maladie coronaire chronique</td>\n",
       "      <td>0</td>\n",
       "      <td>SUP_CV_CAT</td>\n",
       "      <td>Maladies cardioneurovasculaires</td>\n",
       "      <td>FISC_REG_S</td>\n",
       "      <td>76</td>\n",
       "      <td>FISC_NIVVIEM_E2015_S_moy_10</td>\n",
       "      <td>1</td>\n",
       "      <td>POIDS_FIDELI_S</td>\n",
       "      <td>30886.502030</td>\n",
       "      <td>1.374418e+06</td>\n",
       "      <td>0.022472</td>\n",
       "      <td>0.031912</td>\n",
       "      <td>0.030194</td>\n",
       "      <td>0.033631</td>\n",
       "      <td>0.033026</td>\n",
       "      <td>0.031317</td>\n",
       "      <td>0.034736</td>\n",
       "    </tr>\n",
       "    <tr>\n",
       "      <th>2</th>\n",
       "      <td>prevalence</td>\n",
       "      <td>TOP_CVVALVE_IND</td>\n",
       "      <td>Maladie valvulaire</td>\n",
       "      <td>0</td>\n",
       "      <td>SUP_CV_CAT</td>\n",
       "      <td>Maladies cardioneurovasculaires</td>\n",
       "      <td>FISC_REG_S</td>\n",
       "      <td>76</td>\n",
       "      <td>FISC_NIVVIEM_E2015_S_moy_10</td>\n",
       "      <td>1</td>\n",
       "      <td>POIDS_FIDELI_S</td>\n",
       "      <td>6482.669891</td>\n",
       "      <td>1.374418e+06</td>\n",
       "      <td>0.004717</td>\n",
       "      <td>0.006956</td>\n",
       "      <td>0.006101</td>\n",
       "      <td>0.007810</td>\n",
       "      <td>0.007021</td>\n",
       "      <td>0.006193</td>\n",
       "      <td>0.007848</td>\n",
       "    </tr>\n",
       "    <tr>\n",
       "      <th>3</th>\n",
       "      <td>prevalence</td>\n",
       "      <td>TOP_IRMMHER_IND</td>\n",
       "      <td>Maladies métaboliques héréditaires ou amylose</td>\n",
       "      <td>0</td>\n",
       "      <td>SUP_INFRARVIH_CAT</td>\n",
       "      <td>Maladies inflammatoires ou rares ou VIH ou SIDA</td>\n",
       "      <td>FISC_REG_S</td>\n",
       "      <td>76</td>\n",
       "      <td>FISC_NIVVIEM_E2015_S_moy_10</td>\n",
       "      <td>1</td>\n",
       "      <td>POIDS_FIDELI_S</td>\n",
       "      <td>2080.348333</td>\n",
       "      <td>1.374418e+06</td>\n",
       "      <td>0.001514</td>\n",
       "      <td>0.001515</td>\n",
       "      <td>0.001182</td>\n",
       "      <td>0.001847</td>\n",
       "      <td>0.001693</td>\n",
       "      <td>0.001332</td>\n",
       "      <td>0.002054</td>\n",
       "    </tr>\n",
       "    <tr>\n",
       "      <th>4</th>\n",
       "      <td>prevalence</td>\n",
       "      <td>TOP_NAUTRES_IND</td>\n",
       "      <td>Autres affections neurologiques</td>\n",
       "      <td>0</td>\n",
       "      <td>SUP_NEUDEG_CAT</td>\n",
       "      <td>Maladies neurologiques ou dégénératives</td>\n",
       "      <td>FISC_REG_S</td>\n",
       "      <td>76</td>\n",
       "      <td>FISC_NIVVIEM_E2015_S_moy_10</td>\n",
       "      <td>1</td>\n",
       "      <td>POIDS_FIDELI_S</td>\n",
       "      <td>4457.531100</td>\n",
       "      <td>1.374418e+06</td>\n",
       "      <td>0.003243</td>\n",
       "      <td>0.003526</td>\n",
       "      <td>0.002986</td>\n",
       "      <td>0.004066</td>\n",
       "      <td>0.003521</td>\n",
       "      <td>0.003009</td>\n",
       "      <td>0.004032</td>\n",
       "    </tr>\n",
       "  </tbody>\n",
       "</table>\n",
       "</div>"
      ],
      "text/plain": [
       "         type          varTaux                                     varTauxLib  \\\n",
       "0  prevalence   TOP_CVAOMI_IND  Artériopathie oblitérante du membre inférieur   \n",
       "1  prevalence  TOP_CVCORON_CHR                    Maladie coronaire chronique   \n",
       "2  prevalence  TOP_CVVALVE_IND                             Maladie valvulaire   \n",
       "3  prevalence  TOP_IRMMHER_IND  Maladies métaboliques héréditaires ou amylose   \n",
       "4  prevalence  TOP_NAUTRES_IND                Autres affections neurologiques   \n",
       "\n",
       "   I_cat                cat                                           catLib  \\\n",
       "0      0         SUP_CV_CAT                  Maladies cardioneurovasculaires   \n",
       "1      0         SUP_CV_CAT                  Maladies cardioneurovasculaires   \n",
       "2      0         SUP_CV_CAT                  Maladies cardioneurovasculaires   \n",
       "3      0  SUP_INFRARVIH_CAT  Maladies inflammatoires ou rares ou VIH ou SIDA   \n",
       "4      0     SUP_NEUDEG_CAT          Maladies neurologiques ou dégénératives   \n",
       "\n",
       "  varPartition valPartition                  varGroupage valGroupage  \\\n",
       "0   FISC_REG_S           76  FISC_NIVVIEM_E2015_S_moy_10           1   \n",
       "1   FISC_REG_S           76  FISC_NIVVIEM_E2015_S_moy_10           1   \n",
       "2   FISC_REG_S           76  FISC_NIVVIEM_E2015_S_moy_10           1   \n",
       "3   FISC_REG_S           76  FISC_NIVVIEM_E2015_S_moy_10           1   \n",
       "4   FISC_REG_S           76  FISC_NIVVIEM_E2015_S_moy_10           1   \n",
       "\n",
       "         varPoids        poids1      poidsTot  txNonStand  txStandDir  \\\n",
       "0  POIDS_FIDELI_S  13621.000499  1.374418e+06    0.009910    0.014240   \n",
       "1  POIDS_FIDELI_S  30886.502030  1.374418e+06    0.022472    0.031912   \n",
       "2  POIDS_FIDELI_S   6482.669891  1.374418e+06    0.004717    0.006956   \n",
       "3  POIDS_FIDELI_S   2080.348333  1.374418e+06    0.001514    0.001515   \n",
       "4  POIDS_FIDELI_S   4457.531100  1.374418e+06    0.003243    0.003526   \n",
       "\n",
       "   txStandDirModBB  txStandDirModBH  txStandIndir  txStandIndirModBB  \\\n",
       "0         0.013046         0.015435      0.014738           0.013555   \n",
       "1         0.030194         0.033631      0.033026           0.031317   \n",
       "2         0.006101         0.007810      0.007021           0.006193   \n",
       "3         0.001182         0.001847      0.001693           0.001332   \n",
       "4         0.002986         0.004066      0.003521           0.003009   \n",
       "\n",
       "   txStandIndirModBH  \n",
       "0           0.015921  \n",
       "1           0.034736  \n",
       "2           0.007848  \n",
       "3           0.002054  \n",
       "4           0.004032  "
      ]
     },
     "execution_count": 14,
     "metadata": {},
     "output_type": "execute_result"
    }
   ],
   "source": [
    "url_drees = \"https://data.drees.solidarites-sante.gouv.fr/explore/dataset/er_inegalites_maladies_chroniques/download/?format=csv&timezone=Europe/Berlin&lang=fr&use_labels_for_header=true&csv_separator=%3B\"\n",
    "\n",
    "urlData = requests.get(url_drees).content\n",
    "df_drees = pd.read_csv(io.StringIO(urlData.decode('utf-8')), sep = \";\")\n",
    "df_drees.head(5)"
   ]
  },
  {
   "cell_type": "markdown",
   "id": "207354e7-f73c-4510-8300-4217014c49fb",
   "metadata": {},
   "source": [
    "### Pour comprendre la structure de la table :"
   ]
  },
  {
   "cell_type": "code",
   "execution_count": 15,
   "id": "497c7cbb-e1a6-414d-8086-b64111ed019e",
   "metadata": {},
   "outputs": [
    {
     "data": {
      "text/plain": [
       "['SEXE', nan, 'FISC_REG_S']"
      ]
     },
     "execution_count": 15,
     "metadata": {},
     "output_type": "execute_result"
    }
   ],
   "source": [
    "list(set(df_drees['varPartition']))"
   ]
  },
  {
   "cell_type": "code",
   "execution_count": 16,
   "id": "99dac61a-8f70-47b1-9d7d-74f68b5eb5a2",
   "metadata": {},
   "outputs": [
    {
     "data": {
      "text/plain": [
       "[nan,\n",
       " 'EAR_GS_S',\n",
       " 'classeAge10',\n",
       " 'SEXE',\n",
       " 'EAR_DIPLR_S',\n",
       " 'FISC_NIVVIEM_E2015_S_moy_10']"
      ]
     },
     "execution_count": 16,
     "metadata": {},
     "output_type": "execute_result"
    }
   ],
   "source": [
    "list(set(df_drees['varGroupage']))"
   ]
  },
  {
   "cell_type": "markdown",
   "id": "5d691bd9-971f-4b5c-b2b3-8bac32c9f71c",
   "metadata": {},
   "source": [
    "### Pour tracer quelques barplots"
   ]
  },
  {
   "cell_type": "code",
   "execution_count": 49,
   "id": "18591df4-4500-40ba-8069-529577111b0e",
   "metadata": {},
   "outputs": [],
   "source": [
    "def selection_variable_barplot(liste_var_groupage, liste_var_partition, type_var_groupage = float, type_var_partition = float, groupby = 'valGroupage') :\n",
    "    # On commence par ne sélectionner que les variables qu'on souhaite\n",
    "    sous_df = df_drees[(df_drees['varGroupage'].isin(liste_var_groupage))\n",
    "                           &(df_drees['varPartition'].isin(liste_var_partition))\n",
    "                           ].copy()\n",
    "    # On vérifie les types\n",
    "    sous_df = sous_df.astype({'valPartition' : type_var_partition, 'valGroupage' : type_var_groupage},  errors='ignore')\n",
    "    \n",
    "    # On fait le groupby + l'opération voulue\n",
    "    grouped_df = sous_df.groupby(groupby, as_index = False).mean()\n",
    "    grouped_df = grouped_df.sort_values(by = groupby)\n",
    "    \n",
    "    return grouped_df"
   ]
  },
  {
   "cell_type": "markdown",
   "id": "4bb1cf7b-4259-45d5-959e-d4099e39604c",
   "metadata": {},
   "source": [
    "### Exemples "
   ]
  },
  {
   "cell_type": "code",
   "execution_count": 56,
   "id": "84eef3b9-9ea3-46d9-b3ab-16d749ea73bf",
   "metadata": {},
   "outputs": [
    {
     "data": {
      "image/png": "[encoded data removed]",
      "text/plain": [
       "<Figure size 640x480 with 1 Axes>"
      ]
     },
     "metadata": {},
     "output_type": "display_data"
    }
   ],
   "source": [
    "# Le taux d'incidence moyen par dixième de niveau de vie\n",
    "\n",
    "df_loc = selection_variable_barplot(liste_var_groupage = ['FISC_NIVVIEM_E2015_S_moy_10'],\n",
    "                                    liste_var_partition = ['FISC_REG_S'],\n",
    "                                    type_var_groupage = int,\n",
    "                                    type_var_partition = float,\n",
    "                                    groupby = 'valGroupage'\n",
    "                                   )\n",
    "\n",
    "sns.barplot(data=df_loc, x= \"valGroupage\" , y=\"txStandDir\")\n",
    "plt.title('Taux d\\'incidence moyen par dixième de niveau de vie')\n",
    "plt.xlabel('Dixième de niveau de vie')\n",
    "plt.ylabel('Indidence')\n",
    "# sns.despine()\n",
    "plt.show()"
   ]
  },
  {
   "cell_type": "code",
   "execution_count": 97,
   "id": "ad2379fb-545c-40b2-ba70-7339bb98c014",
   "metadata": {},
   "outputs": [
    {
     "data": {
      "image/png": "[encoded data removed]",
      "text/plain": [
       "<Figure size 640x480 with 1 Axes>"
      ]
     },
     "metadata": {},
     "output_type": "display_data"
    }
   ],
   "source": [
    "# On ventile par sexe\n",
    "\n",
    "df_loc = selection_variable_barplot(liste_var_groupage = ['FISC_NIVVIEM_E2015_S_moy_10'],\n",
    "                                    liste_var_partition = ['SEXE'],\n",
    "                                    type_var_groupage = int,\n",
    "                                    type_var_partition = float,\n",
    "                                    groupby = ['valGroupage', 'valPartition']\n",
    "                                   )\n",
    "\n",
    "\n",
    "df_loc = df_loc.rename(columns = {'valPartition' : 'Sexe'})\n",
    "sns.barplot(data=df_loc, x= \"valGroupage\", y=\"txStandDir\", hue = 'Sexe')\n",
    "plt.title('Taux d\\'incidence moyen par dixième de niveau de vie et par sexe')\n",
    "plt.xlabel('Dixième de niveau de vie')\n",
    "plt.ylabel('Indidence')\n",
    "# sns.despine()\n",
    "plt.show()"
   ]
  },
  {
   "cell_type": "code",
   "execution_count": null,
   "id": "aae211a5-1e50-4d94-ba4b-f2681bc96c9a",
   "metadata": {},
   "outputs": [],
   "source": []
  },
  {
   "cell_type": "code",
   "execution_count": null,
   "id": "0ab94908-097a-43a7-8773-4d2a70fb80bf",
   "metadata": {},
   "outputs": [],
   "source": []
  },
  {
   "cell_type": "markdown",
   "id": "413eb882-c2af-4300-a4d8-2a215e468963",
   "metadata": {},
   "source": [
    "# Brouillon : on essaie de faire une carte !"
   ]
  },
  {
   "cell_type": "code",
   "execution_count": 120,
   "id": "752ec475-7d73-4d9a-bf83-1984f37ee43c",
   "metadata": {},
   "outputs": [],
   "source": [
    "import geopandas as gpd\n",
    "# !pip install contextily\n",
    "import contextily as ctx"
   ]
  },
  {
   "cell_type": "code",
   "execution_count": 123,
   "id": "3dcbce47-c129-402b-a7b0-f439aac733e2",
   "metadata": {},
   "outputs": [
    {
     "data": {
      "text/html": [
       "<div>\n",
       "<style scoped>\n",
       "    .dataframe tbody tr th:only-of-type {\n",
       "        vertical-align: middle;\n",
       "    }\n",
       "\n",
       "    .dataframe tbody tr th {\n",
       "        vertical-align: top;\n",
       "    }\n",
       "\n",
       "    .dataframe thead th {\n",
       "        text-align: right;\n",
       "    }\n",
       "</style>\n",
       "<table border=\"1\" class=\"dataframe\">\n",
       "  <thead>\n",
       "    <tr style=\"text-align: right;\">\n",
       "      <th></th>\n",
       "      <th>code</th>\n",
       "      <th>nom</th>\n",
       "      <th>geometry</th>\n",
       "    </tr>\n",
       "  </thead>\n",
       "  <tbody>\n",
       "    <tr>\n",
       "      <th>0</th>\n",
       "      <td>11</td>\n",
       "      <td>Île-de-France</td>\n",
       "      <td>POLYGON ((2.59052 49.07965, 2.63327 49.10838, ...</td>\n",
       "    </tr>\n",
       "    <tr>\n",
       "      <th>1</th>\n",
       "      <td>24</td>\n",
       "      <td>Centre-Val de Loire</td>\n",
       "      <td>POLYGON ((2.87463 47.52042, 2.88845 47.50943, ...</td>\n",
       "    </tr>\n",
       "    <tr>\n",
       "      <th>2</th>\n",
       "      <td>27</td>\n",
       "      <td>Bourgogne-Franche-Comté</td>\n",
       "      <td>POLYGON ((3.62942 46.74946, 3.57569 46.74952, ...</td>\n",
       "    </tr>\n",
       "    <tr>\n",
       "      <th>3</th>\n",
       "      <td>28</td>\n",
       "      <td>Normandie</td>\n",
       "      <td>POLYGON ((-1.11962 49.35557, -1.07822 49.38849...</td>\n",
       "    </tr>\n",
       "    <tr>\n",
       "      <th>4</th>\n",
       "      <td>32</td>\n",
       "      <td>Hauts-de-France</td>\n",
       "      <td>POLYGON ((4.04797 49.40564, 4.03991 49.39740, ...</td>\n",
       "    </tr>\n",
       "  </tbody>\n",
       "</table>\n",
       "</div>"
      ],
      "text/plain": [
       "  code                      nom  \\\n",
       "0   11            Île-de-France   \n",
       "1   24      Centre-Val de Loire   \n",
       "2   27  Bourgogne-Franche-Comté   \n",
       "3   28                Normandie   \n",
       "4   32          Hauts-de-France   \n",
       "\n",
       "                                            geometry  \n",
       "0  POLYGON ((2.59052 49.07965, 2.63327 49.10838, ...  \n",
       "1  POLYGON ((2.87463 47.52042, 2.88845 47.50943, ...  \n",
       "2  POLYGON ((3.62942 46.74946, 3.57569 46.74952, ...  \n",
       "3  POLYGON ((-1.11962 49.35557, -1.07822 49.38849...  \n",
       "4  POLYGON ((4.04797 49.40564, 4.03991 49.39740, ...  "
      ]
     },
     "execution_count": 123,
     "metadata": {},
     "output_type": "execute_result"
    }
   ],
   "source": [
    "import geopandas as gpd\n",
    "# Pour télécharger le fond de carte : https://github.com/gregoiredavid/france-geojson/blob/master/regions-version-simplifiee.geojson'\n",
    "# A voir si on peut le push sur git, et si on ne peut pas le télécharger automatiquement à chaque fois...\n",
    "\n",
    "sf = gpd.read_file('regions-version-simplifiee.geojson')\n",
    "sf.head()"
   ]
  },
  {
   "cell_type": "code",
   "execution_count": null,
   "id": "4b533142-cfb5-49f2-9237-261b80ebe10c",
   "metadata": {},
   "outputs": [
    {
     "ename": "NameError",
     "evalue": "name 'gv' is not defined",
     "output_type": "error",
     "traceback": [
      "\u001b[0;31m---------------------------------------------------------------------------\u001b[0m",
      "\u001b[0;31mNameError\u001b[0m                                 Traceback (most recent call last)",
      "Cell \u001b[0;32mIn [124], line 1\u001b[0m\n\u001b[0;32m----> 1\u001b[0m deps \u001b[38;5;241m=\u001b[39m gv\u001b[38;5;241m.\u001b[39mPolygons(sf, vdims\u001b[38;5;241m=\u001b[39m[\u001b[38;5;124m'\u001b[39m\u001b[38;5;124mnom\u001b[39m\u001b[38;5;124m'\u001b[39m,\u001b[38;5;124m'\u001b[39m\u001b[38;5;124mvalue\u001b[39m\u001b[38;5;124m'\u001b[39m])\n",
      "\u001b[0;31mNameError\u001b[0m: name 'gv' is not defined"
     ]
    }
   ],
   "source": []
  },
  {
   "cell_type": "code",
   "execution_count": 99,
   "id": "101bb652-0f09-4fce-a16c-1d5e454c8ce6",
   "metadata": {
    "collapsed": true,
    "jupyter": {
     "outputs_hidden": true
    },
    "tags": []
   },
   "outputs": [
    {
     "name": "stdout",
     "output_type": "stream",
     "text": [
      "Collecting contextily\n",
      "  Downloading contextily-1.2.0-py3-none-any.whl (16 kB)\n",
      "Collecting mercantile\n",
      "  Downloading mercantile-1.2.1-py3-none-any.whl (14 kB)\n",
      "Requirement already satisfied: matplotlib in /opt/mamba/lib/python3.9/site-packages (from contextily) (3.5.3)\n",
      "Collecting rasterio\n",
      "  Downloading rasterio-1.3.2-cp39-cp39-manylinux_2_17_x86_64.manylinux2014_x86_64.whl (20.9 MB)\n",
      "\u001b[2K     \u001b[90m━━━━━━━━━━━━━━━━━━━━━━━━━━━━━━━━━━━━━━━━\u001b[0m \u001b[32m20.9/20.9 MB\u001b[0m \u001b[31m14.3 MB/s\u001b[0m eta \u001b[36m0:00:00\u001b[0m00:01\u001b[0m00:01\u001b[0m\n",
      "\u001b[?25hRequirement already satisfied: requests in /opt/mamba/lib/python3.9/site-packages (from contextily) (2.28.1)\n",
      "Collecting geopy\n",
      "  Downloading geopy-2.2.0-py3-none-any.whl (118 kB)\n",
      "\u001b[2K     \u001b[90m━━━━━━━━━━━━━━━━━━━━━━━━━━━━━━━━━━━━━━\u001b[0m \u001b[32m118.9/118.9 kB\u001b[0m \u001b[31m18.6 MB/s\u001b[0m eta \u001b[36m0:00:00\u001b[0m\n",
      "\u001b[?25hRequirement already satisfied: joblib in /opt/mamba/lib/python3.9/site-packages (from contextily) (1.2.0)\n",
      "Requirement already satisfied: pillow in /opt/mamba/lib/python3.9/site-packages (from contextily) (9.2.0)\n",
      "Requirement already satisfied: xyzservices in /opt/mamba/lib/python3.9/site-packages (from contextily) (2022.9.0)\n",
      "Collecting geographiclib<2,>=1.49\n",
      "  Downloading geographiclib-1.52-py3-none-any.whl (38 kB)\n",
      "Requirement already satisfied: cycler>=0.10 in /opt/mamba/lib/python3.9/site-packages (from matplotlib->contextily) (0.11.0)\n",
      "Requirement already satisfied: fonttools>=4.22.0 in /opt/mamba/lib/python3.9/site-packages (from matplotlib->contextily) (4.37.4)\n",
      "Requirement already satisfied: pyparsing>=2.2.1 in /opt/mamba/lib/python3.9/site-packages (from matplotlib->contextily) (3.0.9)\n",
      "Requirement already satisfied: python-dateutil>=2.7 in /opt/mamba/lib/python3.9/site-packages (from matplotlib->contextily) (2.8.2)\n",
      "Requirement already satisfied: kiwisolver>=1.0.1 in /opt/mamba/lib/python3.9/site-packages (from matplotlib->contextily) (1.4.4)\n",
      "Requirement already satisfied: packaging>=20.0 in /opt/mamba/lib/python3.9/site-packages (from matplotlib->contextily) (21.3)\n",
      "Requirement already satisfied: numpy>=1.17 in /opt/mamba/lib/python3.9/site-packages (from matplotlib->contextily) (1.19.5)\n",
      "Requirement already satisfied: click>=3.0 in /opt/mamba/lib/python3.9/site-packages (from mercantile->contextily) (7.1.2)\n",
      "Requirement already satisfied: certifi in /opt/mamba/lib/python3.9/site-packages (from rasterio->contextily) (2022.9.24)\n",
      "Collecting affine\n",
      "  Downloading affine-2.3.1-py2.py3-none-any.whl (16 kB)\n",
      "Requirement already satisfied: cligj>=0.5 in /opt/mamba/lib/python3.9/site-packages (from rasterio->contextily) (0.7.2)\n",
      "Requirement already satisfied: attrs in /opt/mamba/lib/python3.9/site-packages (from rasterio->contextily) (22.1.0)\n",
      "Requirement already satisfied: setuptools in /opt/mamba/lib/python3.9/site-packages (from rasterio->contextily) (59.8.0)\n",
      "Collecting snuggs>=1.4.1\n",
      "  Downloading snuggs-1.4.7-py3-none-any.whl (5.4 kB)\n",
      "Requirement already satisfied: click-plugins in /opt/mamba/lib/python3.9/site-packages (from rasterio->contextily) (1.1.1)\n",
      "Requirement already satisfied: urllib3<1.27,>=1.21.1 in /opt/mamba/lib/python3.9/site-packages (from requests->contextily) (1.26.11)\n",
      "Requirement already satisfied: idna<4,>=2.5 in /opt/mamba/lib/python3.9/site-packages (from requests->contextily) (3.3)\n",
      "Requirement already satisfied: charset-normalizer<3,>=2 in /opt/mamba/lib/python3.9/site-packages (from requests->contextily) (2.1.1)\n",
      "Requirement already satisfied: six>=1.5 in /opt/mamba/lib/python3.9/site-packages (from python-dateutil>=2.7->matplotlib->contextily) (1.15.0)\n",
      "Installing collected packages: geographiclib, affine, snuggs, mercantile, geopy, rasterio, contextily\n",
      "Successfully installed affine-2.3.1 contextily-1.2.0 geographiclib-1.52 geopy-2.2.0 mercantile-1.2.1 rasterio-1.3.2 snuggs-1.4.7\n"
     ]
    }
   ],
   "source": [
    "import geopandas as gpd\n",
    "!pip install contextily\n",
    "import contextily as ctx"
   ]
  },
  {
   "cell_type": "code",
   "execution_count": 117,
   "id": "2bcfdbf6-1dea-4d94-af6d-089e01c70955",
   "metadata": {
    "collapsed": true,
    "jupyter": {
     "outputs_hidden": true
    },
    "tags": []
   },
   "outputs": [
    {
     "name": "stdout",
     "output_type": "stream",
     "text": [
      "Requirement already satisfied: geoviews in /opt/mamba/lib/python3.9/site-packages (1.9.5)\n",
      "Requirement already satisfied: bokeh<2.5,>=2.4.0 in /opt/mamba/lib/python3.9/site-packages (from geoviews) (2.4.3)\n",
      "Requirement already satisfied: holoviews>=1.14.2 in /opt/mamba/lib/python3.9/site-packages (from geoviews) (1.15.1)\n",
      "Requirement already satisfied: cartopy>=0.18.0 in /opt/mamba/lib/python3.9/site-packages (from geoviews) (0.21.0)\n",
      "Requirement already satisfied: packaging in /opt/mamba/lib/python3.9/site-packages (from geoviews) (21.3)\n",
      "Requirement already satisfied: typing-extensions>=3.10.0 in /opt/mamba/lib/python3.9/site-packages (from bokeh<2.5,>=2.4.0->geoviews) (4.4.0)\n",
      "Requirement already satisfied: PyYAML>=3.10 in /opt/mamba/lib/python3.9/site-packages (from bokeh<2.5,>=2.4.0->geoviews) (6.0)\n",
      "Requirement already satisfied: tornado>=5.1 in /opt/mamba/lib/python3.9/site-packages (from bokeh<2.5,>=2.4.0->geoviews) (6.1)\n",
      "Requirement already satisfied: Jinja2>=2.9 in /opt/mamba/lib/python3.9/site-packages (from bokeh<2.5,>=2.4.0->geoviews) (3.1.2)\n",
      "Requirement already satisfied: numpy>=1.11.3 in /opt/mamba/lib/python3.9/site-packages (from bokeh<2.5,>=2.4.0->geoviews) (1.19.5)\n",
      "Requirement already satisfied: pillow>=7.1.0 in /opt/mamba/lib/python3.9/site-packages (from bokeh<2.5,>=2.4.0->geoviews) (9.2.0)\n",
      "Requirement already satisfied: pyshp>=2.1 in /opt/mamba/lib/python3.9/site-packages (from cartopy>=0.18.0->geoviews) (2.3.1)\n",
      "Requirement already satisfied: shapely<2,>=1.6.4 in /opt/mamba/lib/python3.9/site-packages (from cartopy>=0.18.0->geoviews) (1.8.0)\n",
      "Requirement already satisfied: matplotlib>=3.1 in /opt/mamba/lib/python3.9/site-packages (from cartopy>=0.18.0->geoviews) (3.5.3)\n",
      "Requirement already satisfied: pyproj>=3.0.0 in /opt/mamba/lib/python3.9/site-packages (from cartopy>=0.18.0->geoviews) (3.3.1)\n",
      "Requirement already satisfied: pandas>=0.20.0 in /opt/mamba/lib/python3.9/site-packages (from holoviews>=1.14.2->geoviews) (1.4.4)\n",
      "Requirement already satisfied: param<2.0,>=1.9.3 in /opt/mamba/lib/python3.9/site-packages (from holoviews>=1.14.2->geoviews) (1.12.2)\n",
      "Requirement already satisfied: panel>=0.13.1 in /opt/mamba/lib/python3.9/site-packages (from holoviews>=1.14.2->geoviews) (0.14.0)\n",
      "Requirement already satisfied: pyviz-comms>=0.7.4 in /opt/mamba/lib/python3.9/site-packages (from holoviews>=1.14.2->geoviews) (2.2.1)\n",
      "Requirement already satisfied: colorcet in /opt/mamba/lib/python3.9/site-packages (from holoviews>=1.14.2->geoviews) (3.0.1)\n",
      "Requirement already satisfied: pyparsing!=3.0.5,>=2.0.2 in /opt/mamba/lib/python3.9/site-packages (from packaging->geoviews) (3.0.9)\n",
      "Requirement already satisfied: MarkupSafe>=2.0 in /opt/mamba/lib/python3.9/site-packages (from Jinja2>=2.9->bokeh<2.5,>=2.4.0->geoviews) (2.1.1)\n",
      "Requirement already satisfied: cycler>=0.10 in /opt/mamba/lib/python3.9/site-packages (from matplotlib>=3.1->cartopy>=0.18.0->geoviews) (0.11.0)\n",
      "Requirement already satisfied: python-dateutil>=2.7 in /opt/mamba/lib/python3.9/site-packages (from matplotlib>=3.1->cartopy>=0.18.0->geoviews) (2.8.2)\n",
      "Requirement already satisfied: kiwisolver>=1.0.1 in /opt/mamba/lib/python3.9/site-packages (from matplotlib>=3.1->cartopy>=0.18.0->geoviews) (1.4.4)\n",
      "Requirement already satisfied: fonttools>=4.22.0 in /opt/mamba/lib/python3.9/site-packages (from matplotlib>=3.1->cartopy>=0.18.0->geoviews) (4.37.4)\n",
      "Requirement already satisfied: pytz>=2020.1 in /opt/mamba/lib/python3.9/site-packages (from pandas>=0.20.0->holoviews>=1.14.2->geoviews) (2022.4)\n",
      "Requirement already satisfied: markdown in /opt/mamba/lib/python3.9/site-packages (from panel>=0.13.1->holoviews>=1.14.2->geoviews) (3.4.1)\n",
      "Requirement already satisfied: pyct>=0.4.4 in /opt/mamba/lib/python3.9/site-packages (from panel>=0.13.1->holoviews>=1.14.2->geoviews) (0.4.8)\n",
      "Requirement already satisfied: setuptools in /opt/mamba/lib/python3.9/site-packages (from panel>=0.13.1->holoviews>=1.14.2->geoviews) (59.8.0)\n",
      "Requirement already satisfied: bleach in /opt/mamba/lib/python3.9/site-packages (from panel>=0.13.1->holoviews>=1.14.2->geoviews) (5.0.1)\n",
      "Requirement already satisfied: tqdm>=4.48.0 in /opt/mamba/lib/python3.9/site-packages (from panel>=0.13.1->holoviews>=1.14.2->geoviews) (4.64.0)\n",
      "Requirement already satisfied: requests in /opt/mamba/lib/python3.9/site-packages (from panel>=0.13.1->holoviews>=1.14.2->geoviews) (2.28.1)\n",
      "Requirement already satisfied: certifi in /opt/mamba/lib/python3.9/site-packages (from pyproj>=3.0.0->cartopy>=0.18.0->geoviews) (2022.9.24)\n",
      "Requirement already satisfied: six>=1.5 in /opt/mamba/lib/python3.9/site-packages (from python-dateutil>=2.7->matplotlib>=3.1->cartopy>=0.18.0->geoviews) (1.15.0)\n",
      "Requirement already satisfied: webencodings in /opt/mamba/lib/python3.9/site-packages (from bleach->panel>=0.13.1->holoviews>=1.14.2->geoviews) (0.5.1)\n",
      "Requirement already satisfied: importlib-metadata>=4.4 in /opt/mamba/lib/python3.9/site-packages (from markdown->panel>=0.13.1->holoviews>=1.14.2->geoviews) (4.11.4)\n",
      "Requirement already satisfied: idna<4,>=2.5 in /opt/mamba/lib/python3.9/site-packages (from requests->panel>=0.13.1->holoviews>=1.14.2->geoviews) (3.3)\n",
      "Requirement already satisfied: charset-normalizer<3,>=2 in /opt/mamba/lib/python3.9/site-packages (from requests->panel>=0.13.1->holoviews>=1.14.2->geoviews) (2.1.1)\n",
      "Requirement already satisfied: urllib3<1.27,>=1.21.1 in /opt/mamba/lib/python3.9/site-packages (from requests->panel>=0.13.1->holoviews>=1.14.2->geoviews) (1.26.11)\n",
      "Requirement already satisfied: zipp>=0.5 in /opt/mamba/lib/python3.9/site-packages (from importlib-metadata>=4.4->markdown->panel>=0.13.1->holoviews>=1.14.2->geoviews) (3.8.1)\n"
     ]
    }
   ],
   "source": [
    "!pip install geoviews"
   ]
  },
  {
   "cell_type": "code",
   "execution_count": 116,
   "id": "38c18f31-b448-46eb-85d8-0259a8988ef9",
   "metadata": {},
   "outputs": [
    {
     "name": "stdout",
     "output_type": "stream",
     "text": [
      "Requirement already satisfied: typing-extensions in /opt/mamba/lib/python3.9/site-packages (4.4.0)\n",
      "Note: you may need to restart the kernel to use updated packages.\n"
     ]
    }
   ],
   "source": [
    "pip install typing-extensions --upgrade"
   ]
  },
  {
   "cell_type": "code",
   "execution_count": 119,
   "id": "d356ecdc-3496-428c-8ba5-d00ac7419561",
   "metadata": {},
   "outputs": [
    {
     "name": "stdout",
     "output_type": "stream",
     "text": [
      "Collecting package metadata (current_repodata.json): done\n",
      "Solving environment: \\ ^C\n",
      "failed with initial frozen solve. Retrying with flexible solve.\n",
      "\n",
      "Note: you may need to restart the kernel to use updated packages.\n"
     ]
    }
   ],
   "source": [
    "conda install -c pyviz hvplot"
   ]
  },
  {
   "cell_type": "code",
   "execution_count": 118,
   "id": "507d658d-3747-45e2-a100-1ac5f7a5265b",
   "metadata": {},
   "outputs": [
    {
     "ename": "ImportError",
     "evalue": "cannot import name 'TypeGuard' from 'typing_extensions' (/opt/mamba/lib/python3.9/site-packages/typing_extensions.py)",
     "output_type": "error",
     "traceback": [
      "\u001b[0;31m---------------------------------------------------------------------------\u001b[0m",
      "\u001b[0;31mImportError\u001b[0m                               Traceback (most recent call last)",
      "Cell \u001b[0;32mIn [118], line 1\u001b[0m\n\u001b[0;32m----> 1\u001b[0m \u001b[38;5;28;01mimport\u001b[39;00m \u001b[38;5;21;01mgeoviews\u001b[39;00m \u001b[38;5;28;01mas\u001b[39;00m \u001b[38;5;21;01mgv\u001b[39;00m\n\u001b[1;32m      2\u001b[0m \u001b[38;5;28;01mimport\u001b[39;00m \u001b[38;5;21;01mgeoviews\u001b[39;00m\u001b[38;5;21;01m.\u001b[39;00m\u001b[38;5;21;01mfeature\u001b[39;00m \u001b[38;5;28;01mas\u001b[39;00m \u001b[38;5;21;01mgf\u001b[39;00m\n\u001b[1;32m      3\u001b[0m \u001b[38;5;28;01mimport\u001b[39;00m \u001b[38;5;21;01mxarray\u001b[39;00m \u001b[38;5;28;01mas\u001b[39;00m \u001b[38;5;21;01mxr\u001b[39;00m\n",
      "File \u001b[0;32m/opt/mamba/lib/python3.9/site-packages/geoviews/__init__.py:3\u001b[0m\n\u001b[1;32m      1\u001b[0m \u001b[38;5;28;01mimport\u001b[39;00m \u001b[38;5;21;01mparam\u001b[39;00m\n\u001b[0;32m----> 3\u001b[0m \u001b[38;5;28;01mfrom\u001b[39;00m \u001b[38;5;21;01mholoviews\u001b[39;00m \u001b[38;5;28;01mimport\u001b[39;00m (extension, help, opts, output, renderer, Store, \u001b[38;5;66;03m# noqa (API import)\u001b[39;00m\n\u001b[1;32m      4\u001b[0m                        Cycle, Palette, Overlay, Layout, NdOverlay, NdLayout,\n\u001b[1;32m      5\u001b[0m                        HoloMap, DynamicMap, GridSpace, Dimension, dim)\n\u001b[1;32m      7\u001b[0m \u001b[38;5;28;01mtry\u001b[39;00m:\n\u001b[1;32m      8\u001b[0m     \u001b[38;5;66;03m# Only available in HoloViews >=1.11\u001b[39;00m\n\u001b[1;32m      9\u001b[0m     \u001b[38;5;28;01mfrom\u001b[39;00m \u001b[38;5;21;01mholoviews\u001b[39;00m \u001b[38;5;28;01mimport\u001b[39;00m render, save \u001b[38;5;66;03m# noqa (API import)\u001b[39;00m\n",
      "File \u001b[0;32m/opt/mamba/lib/python3.9/site-packages/holoviews/__init__.py:85\u001b[0m\n\u001b[1;32m     81\u001b[0m __version__ \u001b[38;5;241m=\u001b[39m \u001b[38;5;28mstr\u001b[39m(param\u001b[38;5;241m.\u001b[39mversion\u001b[38;5;241m.\u001b[39mVersion(fpath\u001b[38;5;241m=\u001b[39m\u001b[38;5;18m__file__\u001b[39m, archive_commit\u001b[38;5;241m=\u001b[39m\u001b[38;5;124m\"\u001b[39m\u001b[38;5;124m$Format:\u001b[39m\u001b[38;5;124m%\u001b[39m\u001b[38;5;124mh$\u001b[39m\u001b[38;5;124m\"\u001b[39m,\n\u001b[1;32m     82\u001b[0m                                         reponame\u001b[38;5;241m=\u001b[39m\u001b[38;5;124m\"\u001b[39m\u001b[38;5;124mholoviews\u001b[39m\u001b[38;5;124m\"\u001b[39m))\n\u001b[1;32m     84\u001b[0m \u001b[38;5;28;01mfrom\u001b[39;00m \u001b[38;5;21;01m.\u001b[39;00m \u001b[38;5;28;01mimport\u001b[39;00m util                                       \u001b[38;5;66;03m# noqa (API import)\u001b[39;00m\n\u001b[0;32m---> 85\u001b[0m \u001b[38;5;28;01mfrom\u001b[39;00m \u001b[38;5;21;01m.\u001b[39;00m\u001b[38;5;21;01mannotators\u001b[39;00m \u001b[38;5;28;01mimport\u001b[39;00m annotate                         \u001b[38;5;66;03m# noqa (API import)\u001b[39;00m\n\u001b[1;32m     86\u001b[0m \u001b[38;5;28;01mfrom\u001b[39;00m \u001b[38;5;21;01m.\u001b[39;00m\u001b[38;5;21;01mcore\u001b[39;00m \u001b[38;5;28;01mimport\u001b[39;00m archive, config                        \u001b[38;5;66;03m# noqa (API import)\u001b[39;00m\n\u001b[1;32m     87\u001b[0m \u001b[38;5;28;01mfrom\u001b[39;00m \u001b[38;5;21;01m.\u001b[39;00m\u001b[38;5;21;01mcore\u001b[39;00m\u001b[38;5;21;01m.\u001b[39;00m\u001b[38;5;21;01mboundingregion\u001b[39;00m \u001b[38;5;28;01mimport\u001b[39;00m BoundingBox             \u001b[38;5;66;03m# noqa (API import)\u001b[39;00m\n",
      "File \u001b[0;32m/opt/mamba/lib/python3.9/site-packages/holoviews/annotators.py:8\u001b[0m\n\u001b[1;32m      4\u001b[0m \u001b[38;5;28;01mfrom\u001b[39;00m \u001b[38;5;21;01minspect\u001b[39;00m \u001b[38;5;28;01mimport\u001b[39;00m getmro\n\u001b[1;32m      6\u001b[0m \u001b[38;5;28;01mimport\u001b[39;00m \u001b[38;5;21;01mparam\u001b[39;00m\n\u001b[0;32m----> 8\u001b[0m \u001b[38;5;28;01mfrom\u001b[39;00m \u001b[38;5;21;01mpanel\u001b[39;00m\u001b[38;5;21;01m.\u001b[39;00m\u001b[38;5;21;01mpane\u001b[39;00m \u001b[38;5;28;01mimport\u001b[39;00m PaneBase\n\u001b[1;32m      9\u001b[0m \u001b[38;5;28;01mfrom\u001b[39;00m \u001b[38;5;21;01mpanel\u001b[39;00m\u001b[38;5;21;01m.\u001b[39;00m\u001b[38;5;21;01mlayout\u001b[39;00m \u001b[38;5;28;01mimport\u001b[39;00m Row, Tabs\n\u001b[1;32m     10\u001b[0m \u001b[38;5;28;01mfrom\u001b[39;00m \u001b[38;5;21;01mpanel\u001b[39;00m\u001b[38;5;21;01m.\u001b[39;00m\u001b[38;5;21;01mutil\u001b[39;00m \u001b[38;5;28;01mimport\u001b[39;00m param_name\n",
      "File \u001b[0;32m/opt/mamba/lib/python3.9/site-packages/panel/__init__.py:48\u001b[0m\n\u001b[1;32m      1\u001b[0m \u001b[38;5;124;03m\"\"\"\u001b[39;00m\n\u001b[1;32m      2\u001b[0m \u001b[38;5;124;03mPanel is a high level app and dashboarding framework\u001b[39;00m\n\u001b[1;32m      3\u001b[0m \u001b[38;5;124;03m====================================================\u001b[39;00m\n\u001b[0;32m   (...)\u001b[0m\n\u001b[1;32m     46\u001b[0m \u001b[38;5;124;03mhttps://panel.holoviz.org/getting_started/index.html\u001b[39;00m\n\u001b[1;32m     47\u001b[0m \u001b[38;5;124;03m\"\"\"\u001b[39;00m\n\u001b[0;32m---> 48\u001b[0m \u001b[38;5;28;01mfrom\u001b[39;00m \u001b[38;5;21;01m.\u001b[39;00m \u001b[38;5;28;01mimport\u001b[39;00m layout  \u001b[38;5;66;03m# noqa\u001b[39;00m\n\u001b[1;32m     49\u001b[0m \u001b[38;5;28;01mfrom\u001b[39;00m \u001b[38;5;21;01m.\u001b[39;00m \u001b[38;5;28;01mimport\u001b[39;00m links  \u001b[38;5;66;03m# noqa\u001b[39;00m\n\u001b[1;32m     50\u001b[0m \u001b[38;5;28;01mfrom\u001b[39;00m \u001b[38;5;21;01m.\u001b[39;00m \u001b[38;5;28;01mimport\u001b[39;00m pane  \u001b[38;5;66;03m# noqa\u001b[39;00m\n",
      "File \u001b[0;32m/opt/mamba/lib/python3.9/site-packages/panel/layout/__init__.py:31\u001b[0m\n\u001b[1;32m      1\u001b[0m \u001b[38;5;124;03m\"\"\"\u001b[39;00m\n\u001b[1;32m      2\u001b[0m \u001b[38;5;124;03mLayout\u001b[39;00m\n\u001b[1;32m      3\u001b[0m \u001b[38;5;124;03m======\u001b[39;00m\n\u001b[0;32m   (...)\u001b[0m\n\u001b[1;32m     29\u001b[0m \u001b[38;5;124;03mhttps://panel.holoviz.org/getting_started/index.html\u001b[39;00m\n\u001b[1;32m     30\u001b[0m \u001b[38;5;124;03m\"\"\"\u001b[39;00m\n\u001b[0;32m---> 31\u001b[0m \u001b[38;5;28;01mfrom\u001b[39;00m \u001b[38;5;21;01m.\u001b[39;00m\u001b[38;5;21;01maccordion\u001b[39;00m \u001b[38;5;28;01mimport\u001b[39;00m Accordion  \u001b[38;5;66;03m# noqa\u001b[39;00m\n\u001b[1;32m     32\u001b[0m \u001b[38;5;28;01mfrom\u001b[39;00m \u001b[38;5;21;01m.\u001b[39;00m\u001b[38;5;21;01mbase\u001b[39;00m \u001b[38;5;28;01mimport\u001b[39;00m (  \u001b[38;5;66;03m# noqa\u001b[39;00m\n\u001b[1;32m     33\u001b[0m     Column, ListLike, ListPanel, Panel, Row, WidgetBox,\n\u001b[1;32m     34\u001b[0m )\n\u001b[1;32m     35\u001b[0m \u001b[38;5;28;01mfrom\u001b[39;00m \u001b[38;5;21;01m.\u001b[39;00m\u001b[38;5;21;01mcard\u001b[39;00m \u001b[38;5;28;01mimport\u001b[39;00m Card  \u001b[38;5;66;03m# noqa\u001b[39;00m\n",
      "File \u001b[0;32m/opt/mamba/lib/python3.9/site-packages/panel/layout/accordion.py:7\u001b[0m\n\u001b[1;32m      3\u001b[0m \u001b[38;5;28;01mfrom\u001b[39;00m \u001b[38;5;21;01mtyping\u001b[39;00m \u001b[38;5;28;01mimport\u001b[39;00m TYPE_CHECKING, ClassVar, Mapping\n\u001b[1;32m      5\u001b[0m \u001b[38;5;28;01mimport\u001b[39;00m \u001b[38;5;21;01mparam\u001b[39;00m\n\u001b[0;32m----> 7\u001b[0m \u001b[38;5;28;01mfrom\u001b[39;00m \u001b[38;5;21;01mbokeh\u001b[39;00m\u001b[38;5;21;01m.\u001b[39;00m\u001b[38;5;21;01mmodels\u001b[39;00m \u001b[38;5;28;01mimport\u001b[39;00m Column \u001b[38;5;28;01mas\u001b[39;00m BkColumn, CustomJS\n\u001b[1;32m      9\u001b[0m \u001b[38;5;28;01mfrom\u001b[39;00m \u001b[38;5;21;01m.\u001b[39;00m\u001b[38;5;21;01mbase\u001b[39;00m \u001b[38;5;28;01mimport\u001b[39;00m NamedListPanel\n\u001b[1;32m     10\u001b[0m \u001b[38;5;28;01mfrom\u001b[39;00m \u001b[38;5;21;01m.\u001b[39;00m\u001b[38;5;21;01mcard\u001b[39;00m \u001b[38;5;28;01mimport\u001b[39;00m Card\n",
      "File \u001b[0;32m/opt/mamba/lib/python3.9/site-packages/bokeh/models/__init__.py:33\u001b[0m\n\u001b[1;32m     26\u001b[0m log \u001b[38;5;241m=\u001b[39m logging\u001b[38;5;241m.\u001b[39mgetLogger(\u001b[38;5;18m__name__\u001b[39m)\n\u001b[1;32m     28\u001b[0m \u001b[38;5;66;03m#-----------------------------------------------------------------------------\u001b[39;00m\n\u001b[1;32m     29\u001b[0m \u001b[38;5;66;03m# Imports\u001b[39;00m\n\u001b[1;32m     30\u001b[0m \u001b[38;5;66;03m#-----------------------------------------------------------------------------\u001b[39;00m\n\u001b[1;32m     31\u001b[0m \n\u001b[1;32m     32\u001b[0m \u001b[38;5;66;03m# Bokeh imports\u001b[39;00m\n\u001b[0;32m---> 33\u001b[0m \u001b[38;5;28;01mfrom\u001b[39;00m \u001b[38;5;21;01m.\u001b[39;00m\u001b[38;5;21;01m.\u001b[39;00m\u001b[38;5;21;01mcore\u001b[39;00m\u001b[38;5;21;01m.\u001b[39;00m\u001b[38;5;21;01mproperty\u001b[39;00m\u001b[38;5;21;01m.\u001b[39;00m\u001b[38;5;21;01mdataspec\u001b[39;00m \u001b[38;5;28;01mimport\u001b[39;00m expr, field, value  \u001b[38;5;66;03m# Legacy API\u001b[39;00m\n\u001b[1;32m     34\u001b[0m \u001b[38;5;28;01mfrom\u001b[39;00m \u001b[38;5;21;01m.\u001b[39;00m\u001b[38;5;21;01m.\u001b[39;00m\u001b[38;5;21;01mmodel\u001b[39;00m \u001b[38;5;28;01mimport\u001b[39;00m Model\n\u001b[1;32m     35\u001b[0m \u001b[38;5;28;01mfrom\u001b[39;00m \u001b[38;5;21;01m.\u001b[39;00m\u001b[38;5;21;01mannotations\u001b[39;00m \u001b[38;5;28;01mimport\u001b[39;00m \u001b[38;5;241m*\u001b[39m\n",
      "File \u001b[0;32m/opt/mamba/lib/python3.9/site-packages/bokeh/core/property/dataspec.py:32\u001b[0m\n\u001b[1;32m     30\u001b[0m \u001b[38;5;28;01mfrom\u001b[39;00m \u001b[38;5;21;01m.\u001b[39;00m\u001b[38;5;21;01m.\u001b[39;00m\u001b[38;5;21;01m.\u001b[39;00m \u001b[38;5;28;01mimport\u001b[39;00m colors\n\u001b[1;32m     31\u001b[0m \u001b[38;5;28;01mfrom\u001b[39;00m \u001b[38;5;21;01m.\u001b[39;00m\u001b[38;5;21;01m.\u001b[39;00m\u001b[38;5;21;01m.\u001b[39;00m\u001b[38;5;21;01mutil\u001b[39;00m\u001b[38;5;21;01m.\u001b[39;00m\u001b[38;5;21;01mdeprecation\u001b[39;00m \u001b[38;5;28;01mimport\u001b[39;00m deprecated\n\u001b[0;32m---> 32\u001b[0m \u001b[38;5;28;01mfrom\u001b[39;00m \u001b[38;5;21;01m.\u001b[39;00m\u001b[38;5;21;01m.\u001b[39;00m\u001b[38;5;21;01m.\u001b[39;00m\u001b[38;5;21;01mutil\u001b[39;00m\u001b[38;5;21;01m.\u001b[39;00m\u001b[38;5;21;01mserialization\u001b[39;00m \u001b[38;5;28;01mimport\u001b[39;00m convert_datetime_type, convert_timedelta_type\n\u001b[1;32m     33\u001b[0m \u001b[38;5;28;01mfrom\u001b[39;00m \u001b[38;5;21;01m.\u001b[39;00m\u001b[38;5;21;01m.\u001b[39;00m\u001b[38;5;21;01m.\u001b[39;00m\u001b[38;5;21;01mutil\u001b[39;00m\u001b[38;5;21;01m.\u001b[39;00m\u001b[38;5;21;01mstring\u001b[39;00m \u001b[38;5;28;01mimport\u001b[39;00m nice_join\n\u001b[1;32m     34\u001b[0m \u001b[38;5;28;01mfrom\u001b[39;00m \u001b[38;5;21;01m.\u001b[39;00m\u001b[38;5;21;01m.\u001b[39;00m \u001b[38;5;28;01mimport\u001b[39;00m enums\n",
      "File \u001b[0;32m/opt/mamba/lib/python3.9/site-packages/bokeh/util/serialization.py:51\u001b[0m\n\u001b[1;32m     49\u001b[0m \u001b[38;5;66;03m# External imports\u001b[39;00m\n\u001b[1;32m     50\u001b[0m \u001b[38;5;28;01mimport\u001b[39;00m \u001b[38;5;21;01mnumpy\u001b[39;00m \u001b[38;5;28;01mas\u001b[39;00m \u001b[38;5;21;01mnp\u001b[39;00m\n\u001b[0;32m---> 51\u001b[0m \u001b[38;5;28;01mfrom\u001b[39;00m \u001b[38;5;21;01mtyping_extensions\u001b[39;00m \u001b[38;5;28;01mimport\u001b[39;00m Literal, TypedDict, TypeGuard\n\u001b[1;32m     53\u001b[0m \u001b[38;5;28;01mif\u001b[39;00m TYPE_CHECKING:\n\u001b[1;32m     54\u001b[0m     \u001b[38;5;28;01mimport\u001b[39;00m \u001b[38;5;21;01mpandas\u001b[39;00m \u001b[38;5;28;01mas\u001b[39;00m \u001b[38;5;21;01mpd\u001b[39;00m\n",
      "\u001b[0;31mImportError\u001b[0m: cannot import name 'TypeGuard' from 'typing_extensions' (/opt/mamba/lib/python3.9/site-packages/typing_extensions.py)"
     ]
    }
   ],
   "source": [
    "import geoviews as gv\n",
    "import geoviews.feature as gf\n",
    "import xarray as xr\n",
    "from cartopy import crs\n",
    "\n",
    "gv.extension('bokeh')"
   ]
  },
  {
   "cell_type": "code",
   "execution_count": 108,
   "id": "4a0aa69b-2967-4810-bf14-0991bd7d4a2a",
   "metadata": {},
   "outputs": [
    {
     "name": "stdout",
     "output_type": "stream",
     "text": [
      "Collecting pygal_maps_fr\n",
      "  Downloading pygal_maps_fr-1.1.0-py3-none-any.whl (412 kB)\n",
      "\u001b[2K     \u001b[90m━━━━━━━━━━━━━━━━━━━━━━━━━━━━━━━━━━━━━━━\u001b[0m \u001b[32m412.6/412.6 kB\u001b[0m \u001b[31m9.9 MB/s\u001b[0m eta \u001b[36m0:00:00\u001b[0m00:01\u001b[0m\n",
      "\u001b[?25hCollecting pygal>=1.9.9\n",
      "  Downloading pygal-3.0.0-py2.py3-none-any.whl (129 kB)\n",
      "\u001b[2K     \u001b[90m━━━━━━━━━━━━━━━━━━━━━━━━━━━━━━━━━━━━━━\u001b[0m \u001b[32m129.4/129.4 kB\u001b[0m \u001b[31m28.9 MB/s\u001b[0m eta \u001b[36m0:00:00\u001b[0m\n",
      "\u001b[?25hInstalling collected packages: pygal, pygal_maps_fr\n",
      "Successfully installed pygal-3.0.0 pygal_maps_fr-1.1.0\n",
      "Note: you may need to restart the kernel to use updated packages.\n"
     ]
    }
   ],
   "source": [
    "pip install pygal_maps_fr\n"
   ]
  },
  {
   "cell_type": "code",
   "execution_count": 110,
   "id": "f7212508-23ea-4599-9dd2-ddbc7226ccba",
   "metadata": {},
   "outputs": [
    {
     "ename": "AttributeError",
     "evalue": "module 'pygal.maps' has no attribute 'fr'",
     "output_type": "error",
     "traceback": [
      "\u001b[0;31m---------------------------------------------------------------------------\u001b[0m",
      "\u001b[0;31mAttributeError\u001b[0m                            Traceback (most recent call last)",
      "Cell \u001b[0;32mIn [110], line 3\u001b[0m\n\u001b[1;32m      1\u001b[0m \u001b[38;5;28;01mimport\u001b[39;00m \u001b[38;5;21;01mpygal\u001b[39;00m\n\u001b[0;32m----> 3\u001b[0m fr_chart \u001b[38;5;241m=\u001b[39m pygal\u001b[38;5;241m.\u001b[39mmaps\u001b[38;5;241m.\u001b[39mfr\u001b[38;5;241m.\u001b[39mDepartments()\n\u001b[1;32m      4\u001b[0m fr_chart\u001b[38;5;241m.\u001b[39mtitle \u001b[38;5;241m=\u001b[39m \u001b[38;5;124m'\u001b[39m\u001b[38;5;124mSome departments\u001b[39m\u001b[38;5;124m'\u001b[39m\n\u001b[1;32m      5\u001b[0m fr_chart\u001b[38;5;241m.\u001b[39madd(\u001b[38;5;124m'\u001b[39m\u001b[38;5;124mMétropole\u001b[39m\u001b[38;5;124m'\u001b[39m, [\u001b[38;5;124m'\u001b[39m\u001b[38;5;124m69\u001b[39m\u001b[38;5;124m'\u001b[39m, \u001b[38;5;124m'\u001b[39m\u001b[38;5;124m92\u001b[39m\u001b[38;5;124m'\u001b[39m, \u001b[38;5;124m'\u001b[39m\u001b[38;5;124m13\u001b[39m\u001b[38;5;124m'\u001b[39m])\n",
      "\u001b[0;31mAttributeError\u001b[0m: module 'pygal.maps' has no attribute 'fr'"
     ]
    }
   ],
   "source": [
    "import pygal\n",
    "\n",
    "fr_chart = pygal.maps.fr.Departments()\n",
    "fr_chart.title = 'Some departments'\n",
    "fr_chart.add('Métropole', ['69', '92', '13'])\n",
    "fr_chart.add('Corse', ['2A', '2B'])\n",
    "fr_chart.add('DOM COM', ['971', '972', '973', '974'])\n",
    "fr_chart.render()"
   ]
  },
  {
   "cell_type": "code",
   "execution_count": 111,
   "id": "3664fd4e-2188-4a77-b75a-094577a42cb3",
   "metadata": {},
   "outputs": [
    {
     "ename": "ModuleNotFoundError",
     "evalue": "No module named 'pygal.maps.fr'",
     "output_type": "error",
     "traceback": [
      "\u001b[0;31m---------------------------------------------------------------------------\u001b[0m",
      "\u001b[0;31mModuleNotFoundError\u001b[0m                       Traceback (most recent call last)",
      "Cell \u001b[0;32mIn [111], line 1\u001b[0m\n\u001b[0;32m----> 1\u001b[0m \u001b[38;5;28;01mfrom\u001b[39;00m \u001b[38;5;21;01mpygal\u001b[39;00m\u001b[38;5;21;01m.\u001b[39;00m\u001b[38;5;21;01mmaps\u001b[39;00m\u001b[38;5;21;01m.\u001b[39;00m\u001b[38;5;21;01mfr\u001b[39;00m \u001b[38;5;28;01mimport\u001b[39;00m aggregate_regions\n\u001b[1;32m      2\u001b[0m fr_chart \u001b[38;5;241m=\u001b[39m pygal\u001b[38;5;241m.\u001b[39mmaps\u001b[38;5;241m.\u001b[39mfr\u001b[38;5;241m.\u001b[39mRegions(human_readable\u001b[38;5;241m=\u001b[39m\u001b[38;5;28;01mTrue\u001b[39;00m)\n\u001b[1;32m      3\u001b[0m fr_chart\u001b[38;5;241m.\u001b[39mtitle \u001b[38;5;241m=\u001b[39m \u001b[38;5;124m'\u001b[39m\u001b[38;5;124mPopulation by region\u001b[39m\u001b[38;5;124m'\u001b[39m\n",
      "\u001b[0;31mModuleNotFoundError\u001b[0m: No module named 'pygal.maps.fr'"
     ]
    }
   ],
   "source": [
    "from pygal.maps.fr import aggregate_regions\n",
    "fr_chart = pygal.maps.fr.Regions(human_readable=True)\n",
    "fr_chart.title = 'Population by region'\n",
    "fr_chart.add('In 2011', aggregate_regions({\n",
    "  '01': 603827, '02': 541302, '03': 342729, '04': 160959, '05': 138605, '06': 1081244, '07': 317277, '08': 283110, '09': 152286, '10': 303997, '11': 359967, '12': 275813, '13': 1975896, '14': 685262, '15': 147577, '16': 352705, '17': 625682, '18': 311694, '19': 242454, '2A': 145846, '2B': 168640, '21': 525931, '22': 594375, '23': 122560, '24': 415168, '25': 529103, '26': 487993, '27': 588111, '28': 430416, '29': 899870, '30': 718357, '31': 1260226, '32': 188893, '33': 1463662, '34': 1062036, '35': 996439, '36': 230175, '37': 593683, '38': 1215212, '39': 261294, '40': 387929, '41': 331280, '42': 749053, '43': 224907, '44': 1296364, '45': 659587, '46': 174754, '47': 330866, '48': 77156, '49': 790343, '50': 499531, '51': 566571, '52': 182375, '53': 307031, '54': 733124, '55': 193557, '56': 727083, '57': 1045146, '58': 218341, '59': 2579208, '60': 805642, '61': 290891, '62': 1462807, '63': 635469, '64': 656608, '65': 229228, '66': 452530, '67': 1099269, '68': 753056, '69': 1744236, '70': 239695, '71': 555999, '72': 565718, '73': 418949, '74': 746994, '75': 2249975, '76': 1251282, '77': 1338427, '78': 1413635, '79': 370939, '80': 571211, '81': 377675, '82': 244545, '83': 1012735, '84': 546630, '85': 641657, '86': 428447, '87': 376058, '88': 378830, '89': 342463, '90': 143348, '91': 1225191, '92': 1581628, '93': 1529928, '94': 1333702, '95': 1180365, '971': 404635, '972': 392291, '973': 237549, '974': 828581, '976': 212645\n",
    "}))\n",
    "fr_chart.render()"
   ]
  },
  {
   "cell_type": "code",
   "execution_count": 112,
   "id": "3712ca85-8bdd-449e-8730-93a6ca9d5954",
   "metadata": {},
   "outputs": [
    {
     "ename": "AttributeError",
     "evalue": "module 'pygal.maps' has no attribute 'World'",
     "output_type": "error",
     "traceback": [
      "\u001b[0;31m---------------------------------------------------------------------------\u001b[0m",
      "\u001b[0;31mAttributeError\u001b[0m                            Traceback (most recent call last)",
      "Cell \u001b[0;32mIn [113], line 1\u001b[0m\n\u001b[0;32m----> 1\u001b[0m worldmap_chart \u001b[38;5;241m=\u001b[39m pygal\u001b[38;5;241m.\u001b[39mmaps\u001b[38;5;241m.\u001b[39mWorld()\n\u001b[1;32m      2\u001b[0m worldmap_chart\u001b[38;5;241m.\u001b[39mtitle \u001b[38;5;241m=\u001b[39m \u001b[38;5;124m'\u001b[39m\u001b[38;5;124mSome countries\u001b[39m\u001b[38;5;124m'\u001b[39m\n\u001b[1;32m      3\u001b[0m worldmap_chart\u001b[38;5;241m.\u001b[39madd(\u001b[38;5;124m'\u001b[39m\u001b[38;5;124mF countries\u001b[39m\u001b[38;5;124m'\u001b[39m, [\u001b[38;5;124m'\u001b[39m\u001b[38;5;124mfr\u001b[39m\u001b[38;5;124m'\u001b[39m, \u001b[38;5;124m'\u001b[39m\u001b[38;5;124mfi\u001b[39m\u001b[38;5;124m'\u001b[39m])\n",
      "\u001b[0;31mAttributeError\u001b[0m: module 'pygal.maps' has no attribute 'World'"
     ]
    }
   ],
   "source": [
    "worldmap_chart = pygal.maps.world.World()\n",
    "worldmap_chart.title = 'Some countries'\n",
    "worldmap_chart.add('F countries', ['fr', 'fi'])\n",
    "worldmap_chart.add('M countries', ['ma', 'mc', 'md', 'me', 'mg',\n",
    "                                   'mk', 'ml', 'mm', 'mn', 'mo',\n",
    "                                   'mr', 'mt', 'mu', 'mv', 'mw',\n",
    "                                   'mx', 'my', 'mz'])\n",
    "worldmap_chart.add('U countries', ['ua', 'ug', 'us', 'uy', 'uz'])\n",
    "worldmap_chart.render()"
   ]
  },
  {
   "cell_type": "code",
   "execution_count": null,
   "id": "0b6a9226-225a-4959-9266-c1ce74ec2049",
   "metadata": {},
   "outputs": [],
   "source": []
  },
  {
   "cell_type": "code",
   "execution_count": null,
   "id": "f13c6463-6018-4f96-85e1-c25ac7ade062",
   "metadata": {},
   "outputs": [],
   "source": []
  },
  {
   "cell_type": "markdown",
   "id": "2510d0ed-7c1e-42de-9ea6-2d3ed4efafcb",
   "metadata": {},
   "source": [
    "#### Dictionnaire code régions"
   ]
  },
  {
   "cell_type": "code",
   "execution_count": 3,
   "id": "b12adab4-d8c4-4cb1-a577-29dce3a07a55",
   "metadata": {},
   "outputs": [],
   "source": [
    "dico_regions = {\n",
    "    '1' : 'Guadeloupe',\n",
    "    '2' : 'Martinique',\n",
    "    '3' : 'Guyane',\n",
    "    '4' : 'La Réunion',\n",
    "    '6' : 'Mayotte',\n",
    "    '11' : 'Ile de France',\n",
    "    '24' : 'Centre val de Loire',\n",
    "    '27' : 'Bourgogne Franche-Comté',\n",
    "    '28' : 'Normandie' ,\n",
    "    '32' : 'Nord pas de Calais Picardie',\n",
    "    '44' : 'Alsace Champagne Ardenne Lorraine',\n",
    "    '52' : 'Pays de la Loire',\n",
    "    '53' : 'bretagne' ,\n",
    "    '75' : 'Aquitaine Limousin Poitou-Charentes',\n",
    "    '76' : 'Langeudoc-Roussillon Midi-Pyrénées' ,\n",
    "    '84' : 'Auvergne Rhône-Alpes' ,\n",
    "    '93' : 'Procence Alpes Côte d\\'Azur' ,\n",
    "    '94' : 'Corse'\n",
    "}"
   ]
  },
  {
   "cell_type": "code",
   "execution_count": null,
   "id": "88e68e5b-f011-4643-8579-3323c31d5621",
   "metadata": {},
   "outputs": [],
   "source": []
  },
  {
   "cell_type": "code",
   "execution_count": 4,
   "id": "6a989068-f4e9-495d-97e9-56f357bbccc0",
   "metadata": {},
   "outputs": [
    {
     "data": {
      "text/plain": [
       "{'1',\n",
       " '10',\n",
       " '2',\n",
       " '3',\n",
       " '30-39',\n",
       " '4',\n",
       " '40-49',\n",
       " '5',\n",
       " '50-59',\n",
       " '6',\n",
       " '60-69',\n",
       " '7',\n",
       " '70-79',\n",
       " '8',\n",
       " '80-89',\n",
       " '9',\n",
       " '<30',\n",
       " '>=90',\n",
       " 'F',\n",
       " 'M',\n",
       " nan}"
      ]
     },
     "execution_count": 4,
     "metadata": {},
     "output_type": "execute_result"
    }
   ],
   "source": [
    "set(rawData['valGroupage'])"
   ]
  },
  {
   "cell_type": "code",
   "execution_count": null,
   "id": "28d552cf-f405-4add-869e-12163550925f",
   "metadata": {},
   "outputs": [],
   "source": []
  },
  {
   "cell_type": "code",
   "execution_count": null,
   "id": "d83df2ea-248e-42f2-8da9-2784d82c1817",
   "metadata": {},
   "outputs": [],
   "source": []
  },
  {
   "cell_type": "code",
   "execution_count": null,
   "id": "ec452612-3003-4eb2-bfcd-ef8b50102c62",
   "metadata": {},
   "outputs": [],
   "source": []
  },
  {
   "cell_type": "code",
   "execution_count": null,
   "id": "acee766a-5eb4-4dd8-9e0b-d45f213e6455",
   "metadata": {},
   "outputs": [],
   "source": []
  },
  {
   "cell_type": "code",
   "execution_count": null,
   "id": "1f242db6-bda1-45e2-b254-64ebd59ac4b6",
   "metadata": {},
   "outputs": [],
   "source": []
  },
  {
   "cell_type": "code",
   "execution_count": null,
   "id": "0893916c-e07b-4ae3-982e-de5e68af444b",
   "metadata": {},
   "outputs": [],
   "source": []
  },
  {
   "cell_type": "code",
   "execution_count": null,
   "id": "f85c1e81-622f-4f2e-be60-701a38130f52",
   "metadata": {},
   "outputs": [],
   "source": []
  },
  {
   "cell_type": "code",
   "execution_count": null,
   "id": "58627767-30cc-4c4f-90b4-16401a5553c4",
   "metadata": {},
   "outputs": [],
   "source": [
    "sns.set()\n",
    "\n",
    "#define plotting region (2 rows, 2 columns)\n",
    "fig, axes = plt.subplots(2, 2)\n",
    "\n",
    "#create boxplot in each subplot\n",
    "sns.boxplot(data=df, x='team', y='points', ax=axes[0,0])\n",
    "sns.boxplot(data=df, x='team', y='assists', ax=axes[0,1])\n",
    "sns.boxplot(data=df, x='team', y='rebounds', ax=axes[1,0])\n",
    "sns.boxplot(data=df, x='team', y='blocks', ax=axes[1,1])"
   ]
  }
 ],
 "metadata": {
  "kernelspec": {
   "display_name": "Python 3 (ipykernel)",
   "language": "python",
   "name": "python3"
  },
  "language_info": {
   "codemirror_mode": {
    "name": "ipython",
    "version": 3
   },
   "file_extension": ".py",
   "mimetype": "text/x-python",
   "name": "python",
   "nbconvert_exporter": "python",
   "pygments_lexer": "ipython3",
   "version": "3.9.0"
  }
 },
 "nbformat": 4,
 "nbformat_minor": 5
}
