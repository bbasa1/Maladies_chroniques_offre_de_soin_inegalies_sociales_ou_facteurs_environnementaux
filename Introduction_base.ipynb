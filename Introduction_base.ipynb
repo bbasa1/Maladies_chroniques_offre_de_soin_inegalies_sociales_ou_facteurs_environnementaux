{
 "cells": [
  {
   "cell_type": "markdown",
   "id": "456ed975-d29e-4671-ac4a-5d2d46102ead",
   "metadata": {},
   "source": [
    "# A faire\n",
    "\n",
    "- Vérifier qu'on peut bien tracer des moyennes, et si oui, comment sont-elles calculées ? Comprendre les méthodes directes et indirectes...\n"
   ]
  },
  {
   "cell_type": "markdown",
   "id": "eb9fa568-6382-47b4-abc9-cc6f6c023284",
   "metadata": {},
   "source": [
    "# Importations"
   ]
  },
  {
   "cell_type": "markdown",
   "id": "0cd89300-4d01-428a-9ac7-ddec66f33726",
   "metadata": {},
   "source": [
    "## Packages"
   ]
  },
  {
   "cell_type": "code",
   "execution_count": 1,
   "id": "3dd02862-e272-4e4e-864c-e5af49eddd0d",
   "metadata": {},
   "outputs": [],
   "source": [
    "import requests\n",
    "import pandas as pd\n",
    "import io\n",
    "\n",
    "import numpy as np\n",
    "import seaborn as sns\n",
    "import matplotlib.pyplot as plt"
   ]
  },
  {
   "cell_type": "markdown",
   "id": "0412b37c-e81d-4f4c-875e-65ddf8a0d071",
   "metadata": {},
   "source": [
    "## Inégalités sociales face aux maladies chroniques (ER 1243)"
   ]
  },
  {
   "cell_type": "code",
   "execution_count": 14,
   "id": "842374d6-0719-4f08-b5fc-24ca72715471",
   "metadata": {},
   "outputs": [
    {
     "data": {
      "text/html": [
       "<div>\n",
       "<style scoped>\n",
       "    .dataframe tbody tr th:only-of-type {\n",
       "        vertical-align: middle;\n",
       "    }\n",
       "\n",
       "    .dataframe tbody tr th {\n",
       "        vertical-align: top;\n",
       "    }\n",
       "\n",
       "    .dataframe thead th {\n",
       "        text-align: right;\n",
       "    }\n",
       "</style>\n",
       "<table border=\"1\" class=\"dataframe\">\n",
       "  <thead>\n",
       "    <tr style=\"text-align: right;\">\n",
       "      <th></th>\n",
       "      <th>type</th>\n",
       "      <th>varTaux</th>\n",
       "      <th>varTauxLib</th>\n",
       "      <th>I_cat</th>\n",
       "      <th>cat</th>\n",
       "      <th>catLib</th>\n",
       "      <th>varPartition</th>\n",
       "      <th>valPartition</th>\n",
       "      <th>varGroupage</th>\n",
       "      <th>valGroupage</th>\n",
       "      <th>varPoids</th>\n",
       "      <th>poids1</th>\n",
       "      <th>poidsTot</th>\n",
       "      <th>txNonStand</th>\n",
       "      <th>txStandDir</th>\n",
       "      <th>txStandDirModBB</th>\n",
       "      <th>txStandDirModBH</th>\n",
       "      <th>txStandIndir</th>\n",
       "      <th>txStandIndirModBB</th>\n",
       "      <th>txStandIndirModBH</th>\n",
       "    </tr>\n",
       "  </thead>\n",
       "  <tbody>\n",
       "    <tr>\n",
       "      <th>0</th>\n",
       "      <td>prevalence</td>\n",
       "      <td>TOP_CVAOMI_IND</td>\n",
       "      <td>Artériopathie oblitérante du membre inférieur</td>\n",
       "      <td>0</td>\n",
       "      <td>SUP_CV_CAT</td>\n",
       "      <td>Maladies cardioneurovasculaires</td>\n",
       "      <td>FISC_REG_S</td>\n",
       "      <td>76</td>\n",
       "      <td>FISC_NIVVIEM_E2015_S_moy_10</td>\n",
       "      <td>1</td>\n",
       "      <td>POIDS_FIDELI_S</td>\n",
       "      <td>13621.000499</td>\n",
       "      <td>1.374418e+06</td>\n",
       "      <td>0.009910</td>\n",
       "      <td>0.014240</td>\n",
       "      <td>0.013046</td>\n",
       "      <td>0.015435</td>\n",
       "      <td>0.014738</td>\n",
       "      <td>0.013555</td>\n",
       "      <td>0.015921</td>\n",
       "    </tr>\n",
       "    <tr>\n",
       "      <th>1</th>\n",
       "      <td>prevalence</td>\n",
       "      <td>TOP_CVCORON_CHR</td>\n",
       "      <td>Maladie coronaire chronique</td>\n",
       "      <td>0</td>\n",
       "      <td>SUP_CV_CAT</td>\n",
       "      <td>Maladies cardioneurovasculaires</td>\n",
       "      <td>FISC_REG_S</td>\n",
       "      <td>76</td>\n",
       "      <td>FISC_NIVVIEM_E2015_S_moy_10</td>\n",
       "      <td>1</td>\n",
       "      <td>POIDS_FIDELI_S</td>\n",
       "      <td>30886.502030</td>\n",
       "      <td>1.374418e+06</td>\n",
       "      <td>0.022472</td>\n",
       "      <td>0.031912</td>\n",
       "      <td>0.030194</td>\n",
       "      <td>0.033631</td>\n",
       "      <td>0.033026</td>\n",
       "      <td>0.031317</td>\n",
       "      <td>0.034736</td>\n",
       "    </tr>\n",
       "    <tr>\n",
       "      <th>2</th>\n",
       "      <td>prevalence</td>\n",
       "      <td>TOP_CVVALVE_IND</td>\n",
       "      <td>Maladie valvulaire</td>\n",
       "      <td>0</td>\n",
       "      <td>SUP_CV_CAT</td>\n",
       "      <td>Maladies cardioneurovasculaires</td>\n",
       "      <td>FISC_REG_S</td>\n",
       "      <td>76</td>\n",
       "      <td>FISC_NIVVIEM_E2015_S_moy_10</td>\n",
       "      <td>1</td>\n",
       "      <td>POIDS_FIDELI_S</td>\n",
       "      <td>6482.669891</td>\n",
       "      <td>1.374418e+06</td>\n",
       "      <td>0.004717</td>\n",
       "      <td>0.006956</td>\n",
       "      <td>0.006101</td>\n",
       "      <td>0.007810</td>\n",
       "      <td>0.007021</td>\n",
       "      <td>0.006193</td>\n",
       "      <td>0.007848</td>\n",
       "    </tr>\n",
       "    <tr>\n",
       "      <th>3</th>\n",
       "      <td>prevalence</td>\n",
       "      <td>TOP_IRMMHER_IND</td>\n",
       "      <td>Maladies métaboliques héréditaires ou amylose</td>\n",
       "      <td>0</td>\n",
       "      <td>SUP_INFRARVIH_CAT</td>\n",
       "      <td>Maladies inflammatoires ou rares ou VIH ou SIDA</td>\n",
       "      <td>FISC_REG_S</td>\n",
       "      <td>76</td>\n",
       "      <td>FISC_NIVVIEM_E2015_S_moy_10</td>\n",
       "      <td>1</td>\n",
       "      <td>POIDS_FIDELI_S</td>\n",
       "      <td>2080.348333</td>\n",
       "      <td>1.374418e+06</td>\n",
       "      <td>0.001514</td>\n",
       "      <td>0.001515</td>\n",
       "      <td>0.001182</td>\n",
       "      <td>0.001847</td>\n",
       "      <td>0.001693</td>\n",
       "      <td>0.001332</td>\n",
       "      <td>0.002054</td>\n",
       "    </tr>\n",
       "    <tr>\n",
       "      <th>4</th>\n",
       "      <td>prevalence</td>\n",
       "      <td>TOP_NAUTRES_IND</td>\n",
       "      <td>Autres affections neurologiques</td>\n",
       "      <td>0</td>\n",
       "      <td>SUP_NEUDEG_CAT</td>\n",
       "      <td>Maladies neurologiques ou dégénératives</td>\n",
       "      <td>FISC_REG_S</td>\n",
       "      <td>76</td>\n",
       "      <td>FISC_NIVVIEM_E2015_S_moy_10</td>\n",
       "      <td>1</td>\n",
       "      <td>POIDS_FIDELI_S</td>\n",
       "      <td>4457.531100</td>\n",
       "      <td>1.374418e+06</td>\n",
       "      <td>0.003243</td>\n",
       "      <td>0.003526</td>\n",
       "      <td>0.002986</td>\n",
       "      <td>0.004066</td>\n",
       "      <td>0.003521</td>\n",
       "      <td>0.003009</td>\n",
       "      <td>0.004032</td>\n",
       "    </tr>\n",
       "  </tbody>\n",
       "</table>\n",
       "</div>"
      ],
      "text/plain": [
       "         type          varTaux                                     varTauxLib  \\\n",
       "0  prevalence   TOP_CVAOMI_IND  Artériopathie oblitérante du membre inférieur   \n",
       "1  prevalence  TOP_CVCORON_CHR                    Maladie coronaire chronique   \n",
       "2  prevalence  TOP_CVVALVE_IND                             Maladie valvulaire   \n",
       "3  prevalence  TOP_IRMMHER_IND  Maladies métaboliques héréditaires ou amylose   \n",
       "4  prevalence  TOP_NAUTRES_IND                Autres affections neurologiques   \n",
       "\n",
       "   I_cat                cat                                           catLib  \\\n",
       "0      0         SUP_CV_CAT                  Maladies cardioneurovasculaires   \n",
       "1      0         SUP_CV_CAT                  Maladies cardioneurovasculaires   \n",
       "2      0         SUP_CV_CAT                  Maladies cardioneurovasculaires   \n",
       "3      0  SUP_INFRARVIH_CAT  Maladies inflammatoires ou rares ou VIH ou SIDA   \n",
       "4      0     SUP_NEUDEG_CAT          Maladies neurologiques ou dégénératives   \n",
       "\n",
       "  varPartition valPartition                  varGroupage valGroupage  \\\n",
       "0   FISC_REG_S           76  FISC_NIVVIEM_E2015_S_moy_10           1   \n",
       "1   FISC_REG_S           76  FISC_NIVVIEM_E2015_S_moy_10           1   \n",
       "2   FISC_REG_S           76  FISC_NIVVIEM_E2015_S_moy_10           1   \n",
       "3   FISC_REG_S           76  FISC_NIVVIEM_E2015_S_moy_10           1   \n",
       "4   FISC_REG_S           76  FISC_NIVVIEM_E2015_S_moy_10           1   \n",
       "\n",
       "         varPoids        poids1      poidsTot  txNonStand  txStandDir  \\\n",
       "0  POIDS_FIDELI_S  13621.000499  1.374418e+06    0.009910    0.014240   \n",
       "1  POIDS_FIDELI_S  30886.502030  1.374418e+06    0.022472    0.031912   \n",
       "2  POIDS_FIDELI_S   6482.669891  1.374418e+06    0.004717    0.006956   \n",
       "3  POIDS_FIDELI_S   2080.348333  1.374418e+06    0.001514    0.001515   \n",
       "4  POIDS_FIDELI_S   4457.531100  1.374418e+06    0.003243    0.003526   \n",
       "\n",
       "   txStandDirModBB  txStandDirModBH  txStandIndir  txStandIndirModBB  \\\n",
       "0         0.013046         0.015435      0.014738           0.013555   \n",
       "1         0.030194         0.033631      0.033026           0.031317   \n",
       "2         0.006101         0.007810      0.007021           0.006193   \n",
       "3         0.001182         0.001847      0.001693           0.001332   \n",
       "4         0.002986         0.004066      0.003521           0.003009   \n",
       "\n",
       "   txStandIndirModBH  \n",
       "0           0.015921  \n",
       "1           0.034736  \n",
       "2           0.007848  \n",
       "3           0.002054  \n",
       "4           0.004032  "
      ]
     },
     "execution_count": 14,
     "metadata": {},
     "output_type": "execute_result"
    }
   ],
   "source": [
    "url_drees = \"https://data.drees.solidarites-sante.gouv.fr/explore/dataset/er_inegalites_maladies_chroniques/download/?format=csv&timezone=Europe/Berlin&lang=fr&use_labels_for_header=true&csv_separator=%3B\"\n",
    "\n",
    "urlData = requests.get(url_drees).content\n",
    "df_drees = pd.read_csv(io.StringIO(urlData.decode('utf-8')), sep = \";\")\n",
    "df_drees.head(5)"
   ]
  },
  {
   "cell_type": "markdown",
   "id": "207354e7-f73c-4510-8300-4217014c49fb",
   "metadata": {},
   "source": [
    "### Pour comprendre la structure de la table :"
   ]
  },
  {
   "cell_type": "code",
   "execution_count": 15,
   "id": "497c7cbb-e1a6-414d-8086-b64111ed019e",
   "metadata": {},
   "outputs": [
    {
     "data": {
      "text/plain": [
       "['SEXE', nan, 'FISC_REG_S']"
      ]
     },
     "execution_count": 15,
     "metadata": {},
     "output_type": "execute_result"
    }
   ],
   "source": [
    "list(set(df_drees['varPartition']))"
   ]
  },
  {
   "cell_type": "code",
   "execution_count": 16,
   "id": "99dac61a-8f70-47b1-9d7d-74f68b5eb5a2",
   "metadata": {},
   "outputs": [
    {
     "data": {
      "text/plain": [
       "[nan,\n",
       " 'EAR_GS_S',\n",
       " 'classeAge10',\n",
       " 'SEXE',\n",
       " 'EAR_DIPLR_S',\n",
       " 'FISC_NIVVIEM_E2015_S_moy_10']"
      ]
     },
     "execution_count": 16,
     "metadata": {},
     "output_type": "execute_result"
    }
   ],
   "source": [
    "list(set(df_drees['varGroupage']))"
   ]
  },
  {
   "cell_type": "markdown",
   "id": "5d691bd9-971f-4b5c-b2b3-8bac32c9f71c",
   "metadata": {},
   "source": [
    "### Pour tracer quelques barplots"
   ]
  },
  {
   "cell_type": "code",
   "execution_count": 49,
   "id": "18591df4-4500-40ba-8069-529577111b0e",
   "metadata": {},
   "outputs": [],
   "source": [
    "def selection_variable_barplot(liste_var_groupage, liste_var_partition, type_var_groupage = float, type_var_partition = float, groupby = 'valGroupage') :\n",
    "    # On commence par ne sélectionner que les variables qu'on souhaite\n",
    "    sous_df = df_drees[(df_drees['varGroupage'].isin(liste_var_groupage))\n",
    "                           &(df_drees['varPartition'].isin(liste_var_partition))\n",
    "                           ].copy()\n",
    "    # On vérifie les types\n",
    "    sous_df = sous_df.astype({'valPartition' : type_var_partition, 'valGroupage' : type_var_groupage},  errors='ignore')\n",
    "    \n",
    "    # On fait le groupby + l'opération voulue\n",
    "    grouped_df = sous_df.groupby(groupby, as_index = False).mean()\n",
    "    grouped_df = grouped_df.sort_values(by = groupby)\n",
    "    \n",
    "    return grouped_df"
   ]
  },
  {
   "cell_type": "markdown",
   "id": "4bb1cf7b-4259-45d5-959e-d4099e39604c",
   "metadata": {},
   "source": [
    "### Exemples "
   ]
  },
  {
   "cell_type": "code",
   "execution_count": 56,
   "id": "84eef3b9-9ea3-46d9-b3ab-16d749ea73bf",
   "metadata": {},
   "outputs": [
    {
     "data": {
      "image/png": "[encoded data removed]",
      "text/plain": [
       "<Figure size 640x480 with 1 Axes>"
      ]
     },
     "metadata": {},
     "output_type": "display_data"
    }
   ],
   "source": [
    "# Le taux d'incidence moyen par dixième de niveau de vie\n",
    "\n",
    "df_loc = selection_variable_barplot(liste_var_groupage = ['FISC_NIVVIEM_E2015_S_moy_10'],\n",
    "                                    liste_var_partition = ['FISC_REG_S'],\n",
    "                                    type_var_groupage = int,\n",
    "                                    type_var_partition = float,\n",
    "                                    groupby = 'valGroupage'\n",
    "                                   )\n",
    "\n",
    "sns.barplot(data=df_loc, x= \"valGroupage\" , y=\"txStandDir\")\n",
    "plt.title('Taux d\\'incidence moyen par dixième de niveau de vie')\n",
    "plt.xlabel('Dixième de niveau de vie')\n",
    "plt.ylabel('Indidence')\n",
    "# sns.despine()\n",
    "plt.show()"
   ]
  },
  {
   "cell_type": "code",
   "execution_count": 93,
   "id": "ad2379fb-545c-40b2-ba70-7339bb98c014",
   "metadata": {},
   "outputs": [
    {
     "data": {
      "image/png": "[encoded data removed]",
      "text/plain": [
       "<Figure size 640x480 with 1 Axes>"
      ]
     },
     "metadata": {},
     "output_type": "display_data"
    }
   ],
   "source": [
    "df_loc = selection_variable_barplot(liste_var_groupage = ['FISC_NIVVIEM_E2015_S_moy_10'],\n",
    "                                    liste_var_partition = ['SEXE'],\n",
    "                                    type_var_groupage = int,\n",
    "                                    type_var_partition = float,\n",
    "                                    groupby = ['valGroupage', 'valPartition']\n",
    "                                   )\n",
    "\n",
    "sns.barplot(data=df_loc, x= \"valGroupage\", y=\"txStandDir\", hue = 'valPartition')\n",
    "plt.title('Taux d\\'incidence moyen par dixième de niveau de vie')\n",
    "plt.xlabel('Dixième de niveau de vie')\n",
    "plt.ylabel('Indidence')\n",
    "# sns.despine()\n",
    "plt.show()"
   ]
  },
  {
   "cell_type": "code",
   "execution_count": null,
   "id": "aae211a5-1e50-4d94-ba4b-f2681bc96c9a",
   "metadata": {},
   "outputs": [],
   "source": []
  },
  {
   "cell_type": "code",
   "execution_count": null,
   "id": "0ab94908-097a-43a7-8773-4d2a70fb80bf",
   "metadata": {},
   "outputs": [],
   "source": []
  },
  {
   "cell_type": "code",
   "execution_count": null,
   "id": "561ddda5-98cf-402c-b6ad-aae4e66e8ec5",
   "metadata": {},
   "outputs": [],
   "source": []
  },
  {
   "cell_type": "code",
   "execution_count": null,
   "id": "101bb652-0f09-4fce-a16c-1d5e454c8ce6",
   "metadata": {},
   "outputs": [],
   "source": []
  },
  {
   "cell_type": "code",
   "execution_count": null,
   "id": "2bcfdbf6-1dea-4d94-af6d-089e01c70955",
   "metadata": {},
   "outputs": [],
   "source": []
  },
  {
   "cell_type": "code",
   "execution_count": null,
   "id": "507d658d-3747-45e2-a100-1ac5f7a5265b",
   "metadata": {},
   "outputs": [],
   "source": []
  },
  {
   "cell_type": "code",
   "execution_count": 7,
   "id": "ecd92831-a471-4ad8-9215-ce89141bfdca",
   "metadata": {},
   "outputs": [
    {
     "data": {
      "text/html": [
       "<div>\n",
       "<style scoped>\n",
       "    .dataframe tbody tr th:only-of-type {\n",
       "        vertical-align: middle;\n",
       "    }\n",
       "\n",
       "    .dataframe tbody tr th {\n",
       "        vertical-align: top;\n",
       "    }\n",
       "\n",
       "    .dataframe thead th {\n",
       "        text-align: right;\n",
       "    }\n",
       "</style>\n",
       "<table border=\"1\" class=\"dataframe\">\n",
       "  <thead>\n",
       "    <tr style=\"text-align: right;\">\n",
       "      <th></th>\n",
       "      <th>I_cat</th>\n",
       "      <th>valPartition</th>\n",
       "      <th>poids1</th>\n",
       "      <th>poidsTot</th>\n",
       "      <th>txNonStand</th>\n",
       "      <th>txStandDir</th>\n",
       "      <th>txStandDirModBB</th>\n",
       "      <th>txStandDirModBH</th>\n",
       "      <th>txStandIndir</th>\n",
       "      <th>txStandIndirModBB</th>\n",
       "      <th>txStandIndirModBH</th>\n",
       "    </tr>\n",
       "    <tr>\n",
       "      <th>valGroupage</th>\n",
       "      <th></th>\n",
       "      <th></th>\n",
       "      <th></th>\n",
       "      <th></th>\n",
       "      <th></th>\n",
       "      <th></th>\n",
       "      <th></th>\n",
       "      <th></th>\n",
       "      <th></th>\n",
       "      <th></th>\n",
       "      <th></th>\n",
       "    </tr>\n",
       "  </thead>\n",
       "  <tbody>\n",
       "    <tr>\n",
       "      <th>1</th>\n",
       "      <td>0.211538</td>\n",
       "      <td>41.352941</td>\n",
       "      <td>7733.668727</td>\n",
       "      <td>776130.544229</td>\n",
       "      <td>0.009891</td>\n",
       "      <td>0.012316</td>\n",
       "      <td>0.011052</td>\n",
       "      <td>0.013579</td>\n",
       "      <td>0.012644</td>\n",
       "      <td>0.011395</td>\n",
       "      <td>0.013892</td>\n",
       "    </tr>\n",
       "    <tr>\n",
       "      <th>2</th>\n",
       "      <td>0.211538</td>\n",
       "      <td>41.352941</td>\n",
       "      <td>9211.359270</td>\n",
       "      <td>745003.095540</td>\n",
       "      <td>0.011656</td>\n",
       "      <td>0.012692</td>\n",
       "      <td>0.011389</td>\n",
       "      <td>0.013995</td>\n",
       "      <td>0.012746</td>\n",
       "      <td>0.011462</td>\n",
       "      <td>0.014030</td>\n",
       "    </tr>\n",
       "    <tr>\n",
       "      <th>3</th>\n",
       "      <td>0.211538</td>\n",
       "      <td>41.352941</td>\n",
       "      <td>9910.046387</td>\n",
       "      <td>741146.072507</td>\n",
       "      <td>0.012376</td>\n",
       "      <td>0.012495</td>\n",
       "      <td>0.011184</td>\n",
       "      <td>0.013806</td>\n",
       "      <td>0.012465</td>\n",
       "      <td>0.011163</td>\n",
       "      <td>0.013767</td>\n",
       "    </tr>\n",
       "    <tr>\n",
       "      <th>4</th>\n",
       "      <td>0.211538</td>\n",
       "      <td>41.352941</td>\n",
       "      <td>9646.126323</td>\n",
       "      <td>744043.869106</td>\n",
       "      <td>0.011869</td>\n",
       "      <td>0.011959</td>\n",
       "      <td>0.010602</td>\n",
       "      <td>0.013315</td>\n",
       "      <td>0.012037</td>\n",
       "      <td>0.010686</td>\n",
       "      <td>0.013388</td>\n",
       "    </tr>\n",
       "    <tr>\n",
       "      <th>5</th>\n",
       "      <td>0.211538</td>\n",
       "      <td>41.352941</td>\n",
       "      <td>9224.140473</td>\n",
       "      <td>750963.638177</td>\n",
       "      <td>0.011424</td>\n",
       "      <td>0.011582</td>\n",
       "      <td>0.010222</td>\n",
       "      <td>0.012943</td>\n",
       "      <td>0.011707</td>\n",
       "      <td>0.010351</td>\n",
       "      <td>0.013064</td>\n",
       "    </tr>\n",
       "    <tr>\n",
       "      <th>6</th>\n",
       "      <td>0.211538</td>\n",
       "      <td>41.352941</td>\n",
       "      <td>8898.453792</td>\n",
       "      <td>754545.468109</td>\n",
       "      <td>0.011081</td>\n",
       "      <td>0.011323</td>\n",
       "      <td>0.009956</td>\n",
       "      <td>0.012690</td>\n",
       "      <td>0.011436</td>\n",
       "      <td>0.010064</td>\n",
       "      <td>0.012809</td>\n",
       "    </tr>\n",
       "    <tr>\n",
       "      <th>7</th>\n",
       "      <td>0.211538</td>\n",
       "      <td>41.352941</td>\n",
       "      <td>8587.725216</td>\n",
       "      <td>757391.533269</td>\n",
       "      <td>0.010765</td>\n",
       "      <td>0.011018</td>\n",
       "      <td>0.009668</td>\n",
       "      <td>0.012368</td>\n",
       "      <td>0.011119</td>\n",
       "      <td>0.009768</td>\n",
       "      <td>0.012470</td>\n",
       "    </tr>\n",
       "    <tr>\n",
       "      <th>8</th>\n",
       "      <td>0.211538</td>\n",
       "      <td>41.352941</td>\n",
       "      <td>8645.153658</td>\n",
       "      <td>756574.262605</td>\n",
       "      <td>0.010934</td>\n",
       "      <td>0.010465</td>\n",
       "      <td>0.009184</td>\n",
       "      <td>0.011746</td>\n",
       "      <td>0.010564</td>\n",
       "      <td>0.009286</td>\n",
       "      <td>0.011841</td>\n",
       "    </tr>\n",
       "    <tr>\n",
       "      <th>9</th>\n",
       "      <td>0.211538</td>\n",
       "      <td>41.352941</td>\n",
       "      <td>8961.936985</td>\n",
       "      <td>753345.746352</td>\n",
       "      <td>0.011583</td>\n",
       "      <td>0.010093</td>\n",
       "      <td>0.008855</td>\n",
       "      <td>0.011330</td>\n",
       "      <td>0.010196</td>\n",
       "      <td>0.008974</td>\n",
       "      <td>0.011417</td>\n",
       "    </tr>\n",
       "    <tr>\n",
       "      <th>10</th>\n",
       "      <td>0.211538</td>\n",
       "      <td>41.352941</td>\n",
       "      <td>8908.068233</td>\n",
       "      <td>745586.715981</td>\n",
       "      <td>0.012017</td>\n",
       "      <td>0.009492</td>\n",
       "      <td>0.008276</td>\n",
       "      <td>0.010708</td>\n",
       "      <td>0.009560</td>\n",
       "      <td>0.008424</td>\n",
       "      <td>0.010696</td>\n",
       "    </tr>\n",
       "  </tbody>\n",
       "</table>\n",
       "</div>"
      ],
      "text/plain": [
       "                I_cat  valPartition       poids1       poidsTot  txNonStand  \\\n",
       "valGroupage                                                                   \n",
       "1            0.211538     41.352941  7733.668727  776130.544229    0.009891   \n",
       "2            0.211538     41.352941  9211.359270  745003.095540    0.011656   \n",
       "3            0.211538     41.352941  9910.046387  741146.072507    0.012376   \n",
       "4            0.211538     41.352941  9646.126323  744043.869106    0.011869   \n",
       "5            0.211538     41.352941  9224.140473  750963.638177    0.011424   \n",
       "6            0.211538     41.352941  8898.453792  754545.468109    0.011081   \n",
       "7            0.211538     41.352941  8587.725216  757391.533269    0.010765   \n",
       "8            0.211538     41.352941  8645.153658  756574.262605    0.010934   \n",
       "9            0.211538     41.352941  8961.936985  753345.746352    0.011583   \n",
       "10           0.211538     41.352941  8908.068233  745586.715981    0.012017   \n",
       "\n",
       "             txStandDir  txStandDirModBB  txStandDirModBH  txStandIndir  \\\n",
       "valGroupage                                                               \n",
       "1              0.012316         0.011052         0.013579      0.012644   \n",
       "2              0.012692         0.011389         0.013995      0.012746   \n",
       "3              0.012495         0.011184         0.013806      0.012465   \n",
       "4              0.011959         0.010602         0.013315      0.012037   \n",
       "5              0.011582         0.010222         0.012943      0.011707   \n",
       "6              0.011323         0.009956         0.012690      0.011436   \n",
       "7              0.011018         0.009668         0.012368      0.011119   \n",
       "8              0.010465         0.009184         0.011746      0.010564   \n",
       "9              0.010093         0.008855         0.011330      0.010196   \n",
       "10             0.009492         0.008276         0.010708      0.009560   \n",
       "\n",
       "             txStandIndirModBB  txStandIndirModBH  \n",
       "valGroupage                                        \n",
       "1                     0.011395           0.013892  \n",
       "2                     0.011462           0.014030  \n",
       "3                     0.011163           0.013767  \n",
       "4                     0.010686           0.013388  \n",
       "5                     0.010351           0.013064  \n",
       "6                     0.010064           0.012809  \n",
       "7                     0.009768           0.012470  \n",
       "8                     0.009286           0.011841  \n",
       "9                     0.008974           0.011417  \n",
       "10                    0.008424           0.010696  "
      ]
     },
     "execution_count": 7,
     "metadata": {},
     "output_type": "execute_result"
    }
   ],
   "source": [
    "grouped_df = rawData_incidence.groupby(['valGroupage']).mean()\n",
    "grouped_df = grouped_df.sort_index()\n",
    "grouped_df"
   ]
  },
  {
   "cell_type": "code",
   "execution_count": 8,
   "id": "3c7b8b2a-723a-411f-b985-ae9c26732953",
   "metadata": {},
   "outputs": [
    {
     "data": {
      "image/png": "[encoded data removed]",
      "text/plain": [
       "<Figure size 640x480 with 1 Axes>"
      ]
     },
     "metadata": {},
     "output_type": "display_data"
    }
   ],
   "source": [
    "\n",
    "\n",
    "sns.barplot(data=grouped_df, x= grouped_df.index, y=\"txStandDir\")\n",
    "plt.title('Titre du graphique...')\n",
    "plt.xlabel('Class')\n",
    "plt.ylabel('Mean Age')\n",
    "# sns.despine()\n",
    "plt.show()"
   ]
  },
  {
   "cell_type": "code",
   "execution_count": 9,
   "id": "51807d45-52ab-4094-ac53-c79a880a305a",
   "metadata": {},
   "outputs": [
    {
     "data": {
      "text/html": [
       "<div>\n",
       "<style scoped>\n",
       "    .dataframe tbody tr th:only-of-type {\n",
       "        vertical-align: middle;\n",
       "    }\n",
       "\n",
       "    .dataframe tbody tr th {\n",
       "        vertical-align: top;\n",
       "    }\n",
       "\n",
       "    .dataframe thead th {\n",
       "        text-align: right;\n",
       "    }\n",
       "</style>\n",
       "<table border=\"1\" class=\"dataframe\">\n",
       "  <thead>\n",
       "    <tr style=\"text-align: right;\">\n",
       "      <th></th>\n",
       "      <th>type</th>\n",
       "      <th>varTaux</th>\n",
       "      <th>varTauxLib</th>\n",
       "      <th>I_cat</th>\n",
       "      <th>cat</th>\n",
       "      <th>catLib</th>\n",
       "      <th>varPartition</th>\n",
       "      <th>valPartition</th>\n",
       "      <th>varGroupage</th>\n",
       "      <th>valGroupage</th>\n",
       "      <th>varPoids</th>\n",
       "      <th>poids1</th>\n",
       "      <th>poidsTot</th>\n",
       "      <th>txNonStand</th>\n",
       "      <th>txStandDir</th>\n",
       "      <th>txStandDirModBB</th>\n",
       "      <th>txStandDirModBH</th>\n",
       "      <th>txStandIndir</th>\n",
       "      <th>txStandIndirModBB</th>\n",
       "      <th>txStandIndirModBH</th>\n",
       "    </tr>\n",
       "  </thead>\n",
       "  <tbody>\n",
       "  </tbody>\n",
       "</table>\n",
       "</div>"
      ],
      "text/plain": [
       "Empty DataFrame\n",
       "Columns: [type, varTaux, varTauxLib, I_cat, cat, catLib, varPartition, valPartition, varGroupage, valGroupage, varPoids, poids1, poidsTot, txNonStand, txStandDir, txStandDirModBB, txStandDirModBH, txStandIndir, txStandIndirModBB, txStandIndirModBH]\n",
       "Index: []"
      ]
     },
     "execution_count": 9,
     "metadata": {},
     "output_type": "execute_result"
    }
   ],
   "source": [
    "rawData_incidence = rawData[(rawData['varPartition'].isin(['FISC_NIVVIEM_E2015_S_moy_10', 'SEXE']))\n",
    "                           &(rawData['varGroupage'] == 'FISC_REG_S')\n",
    "                           ]\n",
    "rawData_incidence"
   ]
  },
  {
   "cell_type": "code",
   "execution_count": null,
   "id": "4a0aa69b-2967-4810-bf14-0991bd7d4a2a",
   "metadata": {},
   "outputs": [],
   "source": []
  },
  {
   "cell_type": "code",
   "execution_count": null,
   "id": "f7212508-23ea-4599-9dd2-ddbc7226ccba",
   "metadata": {},
   "outputs": [],
   "source": []
  },
  {
   "cell_type": "code",
   "execution_count": null,
   "id": "3664fd4e-2188-4a77-b75a-094577a42cb3",
   "metadata": {},
   "outputs": [],
   "source": []
  },
  {
   "cell_type": "code",
   "execution_count": null,
   "id": "3712ca85-8bdd-449e-8730-93a6ca9d5954",
   "metadata": {},
   "outputs": [],
   "source": []
  },
  {
   "cell_type": "code",
   "execution_count": null,
   "id": "0b6a9226-225a-4959-9266-c1ce74ec2049",
   "metadata": {},
   "outputs": [],
   "source": []
  },
  {
   "cell_type": "code",
   "execution_count": null,
   "id": "f13c6463-6018-4f96-85e1-c25ac7ade062",
   "metadata": {},
   "outputs": [],
   "source": []
  },
  {
   "cell_type": "markdown",
   "id": "2510d0ed-7c1e-42de-9ea6-2d3ed4efafcb",
   "metadata": {},
   "source": [
    "#### Dictionnaire code régions"
   ]
  },
  {
   "cell_type": "code",
   "execution_count": 3,
   "id": "b12adab4-d8c4-4cb1-a577-29dce3a07a55",
   "metadata": {},
   "outputs": [],
   "source": [
    "dico_regions = {\n",
    "    '1' : 'Guadeloupe',\n",
    "    '2' : 'Martinique',\n",
    "    '3' : 'Guyane',\n",
    "    '4' : 'La Réunion',\n",
    "    '6' : 'Mayotte',\n",
    "    '11' : 'Ile de France',\n",
    "    '24' : 'Centre val de Loire',\n",
    "    '27' : 'Bourgogne Franche-Comté',\n",
    "    '28' : 'Normandie' ,\n",
    "    '32' : 'Nord pas de Calais Picardie',\n",
    "    '44' : 'Alsace Champagne Ardenne Lorraine',\n",
    "    '52' : 'Pays de la Loire',\n",
    "    '53' : 'bretagne' ,\n",
    "    '75' : 'Aquitaine Limousin Poitou-Charentes',\n",
    "    '76' : 'Langeudoc-Roussillon Midi-Pyrénées' ,\n",
    "    '84' : 'Auvergne Rhône-Alpes' ,\n",
    "    '93' : 'Procence Alpes Côte d\\'Azur' ,\n",
    "    '94' : 'Corse'\n",
    "}"
   ]
  },
  {
   "cell_type": "code",
   "execution_count": null,
   "id": "88e68e5b-f011-4643-8579-3323c31d5621",
   "metadata": {},
   "outputs": [],
   "source": []
  },
  {
   "cell_type": "code",
   "execution_count": 4,
   "id": "6a989068-f4e9-495d-97e9-56f357bbccc0",
   "metadata": {},
   "outputs": [
    {
     "data": {
      "text/plain": [
       "{'1',\n",
       " '10',\n",
       " '2',\n",
       " '3',\n",
       " '30-39',\n",
       " '4',\n",
       " '40-49',\n",
       " '5',\n",
       " '50-59',\n",
       " '6',\n",
       " '60-69',\n",
       " '7',\n",
       " '70-79',\n",
       " '8',\n",
       " '80-89',\n",
       " '9',\n",
       " '<30',\n",
       " '>=90',\n",
       " 'F',\n",
       " 'M',\n",
       " nan}"
      ]
     },
     "execution_count": 4,
     "metadata": {},
     "output_type": "execute_result"
    }
   ],
   "source": [
    "set(rawData['valGroupage'])"
   ]
  },
  {
   "cell_type": "code",
   "execution_count": null,
   "id": "28d552cf-f405-4add-869e-12163550925f",
   "metadata": {},
   "outputs": [],
   "source": []
  },
  {
   "cell_type": "code",
   "execution_count": null,
   "id": "d83df2ea-248e-42f2-8da9-2784d82c1817",
   "metadata": {},
   "outputs": [],
   "source": []
  },
  {
   "cell_type": "code",
   "execution_count": null,
   "id": "ec452612-3003-4eb2-bfcd-ef8b50102c62",
   "metadata": {},
   "outputs": [],
   "source": []
  },
  {
   "cell_type": "code",
   "execution_count": null,
   "id": "acee766a-5eb4-4dd8-9e0b-d45f213e6455",
   "metadata": {},
   "outputs": [],
   "source": []
  },
  {
   "cell_type": "code",
   "execution_count": null,
   "id": "1f242db6-bda1-45e2-b254-64ebd59ac4b6",
   "metadata": {},
   "outputs": [],
   "source": []
  },
  {
   "cell_type": "code",
   "execution_count": null,
   "id": "0893916c-e07b-4ae3-982e-de5e68af444b",
   "metadata": {},
   "outputs": [],
   "source": []
  },
  {
   "cell_type": "code",
   "execution_count": null,
   "id": "f85c1e81-622f-4f2e-be60-701a38130f52",
   "metadata": {},
   "outputs": [],
   "source": []
  },
  {
   "cell_type": "code",
   "execution_count": null,
   "id": "58627767-30cc-4c4f-90b4-16401a5553c4",
   "metadata": {},
   "outputs": [],
   "source": [
    "sns.set()\n",
    "\n",
    "#define plotting region (2 rows, 2 columns)\n",
    "fig, axes = plt.subplots(2, 2)\n",
    "\n",
    "#create boxplot in each subplot\n",
    "sns.boxplot(data=df, x='team', y='points', ax=axes[0,0])\n",
    "sns.boxplot(data=df, x='team', y='assists', ax=axes[0,1])\n",
    "sns.boxplot(data=df, x='team', y='rebounds', ax=axes[1,0])\n",
    "sns.boxplot(data=df, x='team', y='blocks', ax=axes[1,1])"
   ]
  }
 ],
 "metadata": {
  "kernelspec": {
   "display_name": "Python 3 (ipykernel)",
   "language": "python",
   "name": "python3"
  },
  "language_info": {
   "codemirror_mode": {
    "name": "ipython",
    "version": 3
   },
   "file_extension": ".py",
   "mimetype": "text/x-python",
   "name": "python",
   "nbconvert_exporter": "python",
   "pygments_lexer": "ipython3",
   "version": "3.9.0"
  }
 },
 "nbformat": 4,
 "nbformat_minor": 5
}
